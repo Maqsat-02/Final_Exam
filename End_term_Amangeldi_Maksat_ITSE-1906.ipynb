{
 "cells": [
  {
   "cell_type": "markdown",
   "id": "plain-restoration",
   "metadata": {},
   "source": [
    "<h2 style=\"color:blue;text-align:center;font-size:40px\";>MID TERM TASK</h2>"
   ]
  },
  {
   "cell_type": "markdown",
   "id": "veterinary-layer",
   "metadata": {},
   "source": [
    "In this notebook we will be working with a **advertising data set**, indicating whether or not a particular internet user clicked on an Advertisement on a company website. \n",
    "\n",
    "We will try to create a model that will **predict whether or not they will click on an ad based on the features (or data) gather for a particular user**.\n",
    "\n",
    "\n",
    "---\n",
    "\n",
    "\n",
    "This data set contains the following features:\n",
    "\n",
    "* 'Daily Time Spent on Site': consumer time on site in minutes\n",
    "* 'Age': cutomer age in years\n",
    "* 'Area Income': Avg. Income of geographical area of consumer\n",
    "* 'Daily Internet Usage': Avg. minutes a day consumer is on the internet\n",
    "* 'Ad Topic Line': Headline of the advertisement\n",
    "* 'City': City of consumer\n",
    "* 'Male': Whether or not consumer was male\n",
    "* 'Country': Country of consumer\n",
    "* 'Timestamp': Time at which consumer clicked on Ad or closed window\n",
    "* 'Clicked on Ad': 0 or 1 indicated clicking on Ad\n",
    "\n",
    "\n",
    "---"
   ]
  },
  {
   "cell_type": "markdown",
   "id": "present-legislation",
   "metadata": {},
   "source": [
    "<h3> Task-1. Take a first look at your data</h3>"
   ]
  },
  {
   "cell_type": "markdown",
   "id": "hawaiian-carroll",
   "metadata": {},
   "source": [
    "<b>First things first,</b>we should import packages to our notebook"
   ]
  },
  {
   "cell_type": "code",
   "execution_count": 1,
   "id": "pressing-douglas",
   "metadata": {},
   "outputs": [],
   "source": [
    "import pandas as pd\n",
    "import numpy  as np\n"
   ]
  },
  {
   "cell_type": "code",
   "execution_count": 2,
   "id": "greenhouse-youth",
   "metadata": {},
   "outputs": [],
   "source": [
    "from sklearn import linear_model\n",
    "\n",
    "# OSL() model can be used from statmodels package\n",
    "import statsmodels.api as sm\n",
    "\n",
    "# we will perform sampling using train_test_split module for training and testin set\n",
    "# and we will use GridSearchCV to find the best parameters for SGDRegressor()\n",
    "from sklearn.model_selection import train_test_split\n",
    "\n",
    "from sklearn import preprocessing\n",
    "\n",
    "# we will evaluate our models using RMSE(mean_squared_error) and Determination coefficient(r2_score)\n",
    "from sklearn.metrics import mean_squared_error, r2_score\n",
    "\n",
    "# in case you will use polinominal features\n",
    "from sklearn.preprocessing import PolynomialFeatures"
   ]
  },
  {
   "cell_type": "markdown",
   "id": "actual-accident",
   "metadata": {},
   "source": [
    "**Next,we read csv file into dataframe, perform info(), head(), describe and any other necessary first step function**"
   ]
  },
  {
   "cell_type": "code",
   "execution_count": 3,
   "id": "mysterious-difficulty",
   "metadata": {},
   "outputs": [],
   "source": [
    "data = pd.read_csv(\"advertisement_data_logistic_regression.csv\")"
   ]
  },
  {
   "cell_type": "code",
   "execution_count": 4,
   "id": "greenhouse-young",
   "metadata": {},
   "outputs": [
    {
     "data": {
      "text/html": [
       "<div>\n",
       "<style scoped>\n",
       "    .dataframe tbody tr th:only-of-type {\n",
       "        vertical-align: middle;\n",
       "    }\n",
       "\n",
       "    .dataframe tbody tr th {\n",
       "        vertical-align: top;\n",
       "    }\n",
       "\n",
       "    .dataframe thead th {\n",
       "        text-align: right;\n",
       "    }\n",
       "</style>\n",
       "<table border=\"1\" class=\"dataframe\">\n",
       "  <thead>\n",
       "    <tr style=\"text-align: right;\">\n",
       "      <th></th>\n",
       "      <th>Unnamed: 0</th>\n",
       "      <th>Daily Time Spent on Site</th>\n",
       "      <th>Age</th>\n",
       "      <th>Area Income</th>\n",
       "      <th>Daily Internet Usage</th>\n",
       "      <th>Ad Topic Line</th>\n",
       "      <th>City</th>\n",
       "      <th>Male</th>\n",
       "      <th>Country</th>\n",
       "      <th>Timestamp</th>\n",
       "      <th>Clicked on Ad</th>\n",
       "    </tr>\n",
       "  </thead>\n",
       "  <tbody>\n",
       "    <tr>\n",
       "      <th>0</th>\n",
       "      <td>0</td>\n",
       "      <td>68.95</td>\n",
       "      <td>35.0</td>\n",
       "      <td>61833.90</td>\n",
       "      <td>256.09</td>\n",
       "      <td>Cloned 5thgeneration orchestration</td>\n",
       "      <td>Wrightburgh</td>\n",
       "      <td>0.0</td>\n",
       "      <td>Tunisia</td>\n",
       "      <td>2016-03-27 0:53:11</td>\n",
       "      <td>0.0</td>\n",
       "    </tr>\n",
       "    <tr>\n",
       "      <th>1</th>\n",
       "      <td>1</td>\n",
       "      <td>80.23</td>\n",
       "      <td>31.0</td>\n",
       "      <td>68441.85</td>\n",
       "      <td>193.77</td>\n",
       "      <td>Monitored national standardization</td>\n",
       "      <td>West Jodi</td>\n",
       "      <td>1.0</td>\n",
       "      <td>Nauru</td>\n",
       "      <td>2016-04-04 1:39:02</td>\n",
       "      <td>0.0</td>\n",
       "    </tr>\n",
       "    <tr>\n",
       "      <th>2</th>\n",
       "      <td>2</td>\n",
       "      <td>69.47</td>\n",
       "      <td>26.0</td>\n",
       "      <td>NaN</td>\n",
       "      <td>NaN</td>\n",
       "      <td>Organic bottom-line service-desk</td>\n",
       "      <td>Davidton</td>\n",
       "      <td>0.0</td>\n",
       "      <td>San Marino</td>\n",
       "      <td>2016-03-13 20:35:42</td>\n",
       "      <td>0.0</td>\n",
       "    </tr>\n",
       "    <tr>\n",
       "      <th>3</th>\n",
       "      <td>3</td>\n",
       "      <td>NaN</td>\n",
       "      <td>NaN</td>\n",
       "      <td>54806.18</td>\n",
       "      <td>245.89</td>\n",
       "      <td>Triple-buffered reciprocal time-frame</td>\n",
       "      <td>West Terrifurt</td>\n",
       "      <td>1.0</td>\n",
       "      <td>Italy</td>\n",
       "      <td>2016-01-10 2:31:19</td>\n",
       "      <td>0.0</td>\n",
       "    </tr>\n",
       "    <tr>\n",
       "      <th>4</th>\n",
       "      <td>4</td>\n",
       "      <td>68.37</td>\n",
       "      <td>35.0</td>\n",
       "      <td>73889.99</td>\n",
       "      <td>225.58</td>\n",
       "      <td>Robust logistical utilization</td>\n",
       "      <td>South Manuel</td>\n",
       "      <td>0.0</td>\n",
       "      <td>Iceland</td>\n",
       "      <td>2016-06-03 3:36:18</td>\n",
       "      <td>0.0</td>\n",
       "    </tr>\n",
       "  </tbody>\n",
       "</table>\n",
       "</div>"
      ],
      "text/plain": [
       "   Unnamed: 0  Daily Time Spent on Site   Age  Area Income  \\\n",
       "0           0                     68.95  35.0     61833.90   \n",
       "1           1                     80.23  31.0     68441.85   \n",
       "2           2                     69.47  26.0          NaN   \n",
       "3           3                       NaN   NaN     54806.18   \n",
       "4           4                     68.37  35.0     73889.99   \n",
       "\n",
       "   Daily Internet Usage                          Ad Topic Line  \\\n",
       "0                256.09     Cloned 5thgeneration orchestration   \n",
       "1                193.77     Monitored national standardization   \n",
       "2                   NaN       Organic bottom-line service-desk   \n",
       "3                245.89  Triple-buffered reciprocal time-frame   \n",
       "4                225.58          Robust logistical utilization   \n",
       "\n",
       "             City  Male     Country            Timestamp  Clicked on Ad  \n",
       "0     Wrightburgh   0.0     Tunisia   2016-03-27 0:53:11            0.0  \n",
       "1       West Jodi   1.0       Nauru   2016-04-04 1:39:02            0.0  \n",
       "2        Davidton   0.0  San Marino  2016-03-13 20:35:42            0.0  \n",
       "3  West Terrifurt   1.0       Italy   2016-01-10 2:31:19            0.0  \n",
       "4    South Manuel   0.0     Iceland   2016-06-03 3:36:18            0.0  "
      ]
     },
     "execution_count": 4,
     "metadata": {},
     "output_type": "execute_result"
    }
   ],
   "source": [
    "data.head()"
   ]
  },
  {
   "cell_type": "code",
   "execution_count": 5,
   "id": "controversial-lewis",
   "metadata": {},
   "outputs": [
    {
     "data": {
      "text/html": [
       "<div>\n",
       "<style scoped>\n",
       "    .dataframe tbody tr th:only-of-type {\n",
       "        vertical-align: middle;\n",
       "    }\n",
       "\n",
       "    .dataframe tbody tr th {\n",
       "        vertical-align: top;\n",
       "    }\n",
       "\n",
       "    .dataframe thead th {\n",
       "        text-align: right;\n",
       "    }\n",
       "</style>\n",
       "<table border=\"1\" class=\"dataframe\">\n",
       "  <thead>\n",
       "    <tr style=\"text-align: right;\">\n",
       "      <th></th>\n",
       "      <th>count</th>\n",
       "      <th>mean</th>\n",
       "      <th>std</th>\n",
       "      <th>min</th>\n",
       "      <th>25%</th>\n",
       "      <th>50%</th>\n",
       "      <th>75%</th>\n",
       "      <th>max</th>\n",
       "    </tr>\n",
       "  </thead>\n",
       "  <tbody>\n",
       "    <tr>\n",
       "      <th>Unnamed: 0</th>\n",
       "      <td>1000.0</td>\n",
       "      <td>499.500000</td>\n",
       "      <td>288.819436</td>\n",
       "      <td>0.00</td>\n",
       "      <td>249.750</td>\n",
       "      <td>499.50</td>\n",
       "      <td>749.2500</td>\n",
       "      <td>999.00</td>\n",
       "    </tr>\n",
       "    <tr>\n",
       "      <th>Daily Time Spent on Site</th>\n",
       "      <td>902.0</td>\n",
       "      <td>65.171885</td>\n",
       "      <td>15.919591</td>\n",
       "      <td>32.60</td>\n",
       "      <td>51.515</td>\n",
       "      <td>68.70</td>\n",
       "      <td>78.6775</td>\n",
       "      <td>91.43</td>\n",
       "    </tr>\n",
       "    <tr>\n",
       "      <th>Age</th>\n",
       "      <td>909.0</td>\n",
       "      <td>35.995600</td>\n",
       "      <td>8.750707</td>\n",
       "      <td>19.00</td>\n",
       "      <td>29.000</td>\n",
       "      <td>35.00</td>\n",
       "      <td>42.0000</td>\n",
       "      <td>61.00</td>\n",
       "    </tr>\n",
       "    <tr>\n",
       "      <th>Area Income</th>\n",
       "      <td>913.0</td>\n",
       "      <td>55300.842607</td>\n",
       "      <td>13172.631848</td>\n",
       "      <td>13996.50</td>\n",
       "      <td>47638.300</td>\n",
       "      <td>57032.36</td>\n",
       "      <td>65620.2500</td>\n",
       "      <td>79484.80</td>\n",
       "    </tr>\n",
       "    <tr>\n",
       "      <th>Daily Internet Usage</th>\n",
       "      <td>907.0</td>\n",
       "      <td>179.353275</td>\n",
       "      <td>43.926032</td>\n",
       "      <td>104.78</td>\n",
       "      <td>138.405</td>\n",
       "      <td>182.11</td>\n",
       "      <td>218.3550</td>\n",
       "      <td>269.96</td>\n",
       "    </tr>\n",
       "    <tr>\n",
       "      <th>Male</th>\n",
       "      <td>928.0</td>\n",
       "      <td>0.478448</td>\n",
       "      <td>0.499805</td>\n",
       "      <td>0.00</td>\n",
       "      <td>0.000</td>\n",
       "      <td>0.00</td>\n",
       "      <td>1.0000</td>\n",
       "      <td>1.00</td>\n",
       "    </tr>\n",
       "    <tr>\n",
       "      <th>Clicked on Ad</th>\n",
       "      <td>895.0</td>\n",
       "      <td>0.498324</td>\n",
       "      <td>0.500277</td>\n",
       "      <td>0.00</td>\n",
       "      <td>0.000</td>\n",
       "      <td>0.00</td>\n",
       "      <td>1.0000</td>\n",
       "      <td>1.00</td>\n",
       "    </tr>\n",
       "  </tbody>\n",
       "</table>\n",
       "</div>"
      ],
      "text/plain": [
       "                           count          mean           std       min  \\\n",
       "Unnamed: 0                1000.0    499.500000    288.819436      0.00   \n",
       "Daily Time Spent on Site   902.0     65.171885     15.919591     32.60   \n",
       "Age                        909.0     35.995600      8.750707     19.00   \n",
       "Area Income                913.0  55300.842607  13172.631848  13996.50   \n",
       "Daily Internet Usage       907.0    179.353275     43.926032    104.78   \n",
       "Male                       928.0      0.478448      0.499805      0.00   \n",
       "Clicked on Ad              895.0      0.498324      0.500277      0.00   \n",
       "\n",
       "                                25%       50%         75%       max  \n",
       "Unnamed: 0                  249.750    499.50    749.2500    999.00  \n",
       "Daily Time Spent on Site     51.515     68.70     78.6775     91.43  \n",
       "Age                          29.000     35.00     42.0000     61.00  \n",
       "Area Income               47638.300  57032.36  65620.2500  79484.80  \n",
       "Daily Internet Usage        138.405    182.11    218.3550    269.96  \n",
       "Male                          0.000      0.00      1.0000      1.00  \n",
       "Clicked on Ad                 0.000      0.00      1.0000      1.00  "
      ]
     },
     "execution_count": 5,
     "metadata": {},
     "output_type": "execute_result"
    }
   ],
   "source": [
    "data.describe().T"
   ]
  },
  {
   "cell_type": "code",
   "execution_count": 6,
   "id": "solved-quarterly",
   "metadata": {},
   "outputs": [
    {
     "name": "stdout",
     "output_type": "stream",
     "text": [
      "<class 'pandas.core.frame.DataFrame'>\n",
      "RangeIndex: 1000 entries, 0 to 999\n",
      "Data columns (total 11 columns):\n",
      " #   Column                    Non-Null Count  Dtype  \n",
      "---  ------                    --------------  -----  \n",
      " 0   Unnamed: 0                1000 non-null   int64  \n",
      " 1   Daily Time Spent on Site  902 non-null    float64\n",
      " 2   Age                       909 non-null    float64\n",
      " 3   Area Income               913 non-null    float64\n",
      " 4   Daily Internet Usage      907 non-null    float64\n",
      " 5   Ad Topic Line             896 non-null    object \n",
      " 6   City                      908 non-null    object \n",
      " 7   Male                      928 non-null    float64\n",
      " 8   Country                   910 non-null    object \n",
      " 9   Timestamp                 911 non-null    object \n",
      " 10  Clicked on Ad             895 non-null    float64\n",
      "dtypes: float64(6), int64(1), object(4)\n",
      "memory usage: 86.1+ KB\n"
     ]
    }
   ],
   "source": [
    "data.info()"
   ]
  },
  {
   "cell_type": "code",
   "execution_count": 7,
   "id": "appointed-script",
   "metadata": {},
   "outputs": [
    {
     "data": {
      "text/plain": [
       "Unnamed: 0                    0\n",
       "Daily Time Spent on Site     98\n",
       "Age                          91\n",
       "Area Income                  87\n",
       "Daily Internet Usage         93\n",
       "Ad Topic Line               104\n",
       "City                         92\n",
       "Male                         72\n",
       "Country                      90\n",
       "Timestamp                    89\n",
       "Clicked on Ad               105\n",
       "dtype: int64"
      ]
     },
     "execution_count": 7,
     "metadata": {},
     "output_type": "execute_result"
    }
   ],
   "source": [
    "data.isnull().sum()"
   ]
  },
  {
   "cell_type": "markdown",
   "id": "acting-welding",
   "metadata": {},
   "source": [
    "**We can see that in our dataset a lot of missong values**"
   ]
  },
  {
   "cell_type": "markdown",
   "id": "dress-catering",
   "metadata": {},
   "source": [
    "<h3>Task-2. Data preparation (handling missing values, outliers, irrelevant data, format, data types, detecting the features and target value, dividing into train and test sets)  </h3>"
   ]
  },
  {
   "cell_type": "code",
   "execution_count": 22,
   "id": "expressed-smith",
   "metadata": {},
   "outputs": [
    {
     "name": "stderr",
     "output_type": "stream",
     "text": [
      "<ipython-input-22-e1c0c6b68c30>:3: SettingWithCopyWarning: \n",
      "A value is trying to be set on a copy of a slice from a DataFrame.\n",
      "Try using .loc[row_indexer,col_indexer] = value instead\n",
      "\n",
      "See the caveats in the documentation: https://pandas.pydata.org/pandas-docs/stable/user_guide/indexing.html#returning-a-view-versus-a-copy\n",
      "  data_num[i] = data_num[i].fillna((data_num[i].mean()))\n"
     ]
    }
   ],
   "source": [
    "data_num=data.select_dtypes( include='number'  )\n",
    "for i in data_num:\n",
    "    data_num[i] = data_num[i].fillna((data_num[i].mean()))"
   ]
  },
  {
   "cell_type": "code",
   "execution_count": 23,
   "id": "creative-table",
   "metadata": {},
   "outputs": [
    {
     "data": {
      "text/plain": [
       "Unnamed: 0                  0\n",
       "Daily Time Spent on Site    0\n",
       "Age                         0\n",
       "Area Income                 0\n",
       "Daily Internet Usage        0\n",
       "Male                        0\n",
       "Clicked on Ad               0\n",
       "dtype: int64"
      ]
     },
     "execution_count": 23,
     "metadata": {},
     "output_type": "execute_result"
    }
   ],
   "source": [
    "data_num.isnull().sum()"
   ]
  },
  {
   "cell_type": "markdown",
   "id": "mineral-spectrum",
   "metadata": {},
   "source": [
    "**We select numerical type features and fill missing values to mean value on that column.After that I use data_num.isnull().sum() to demonstrate result**"
   ]
  },
  {
   "cell_type": "code",
   "execution_count": 24,
   "id": "wrong-venezuela",
   "metadata": {},
   "outputs": [
    {
     "data": {
      "text/plain": [
       "<AxesSubplot:>"
      ]
     },
     "execution_count": 24,
     "metadata": {},
     "output_type": "execute_result"
    },
    {
     "data": {
      "image/png": "[encoded data removed]",
      "text/plain": [
       "<Figure size 432x288 with 1 Axes>"
      ]
     },
     "metadata": {
      "needs_background": "light"
     },
     "output_type": "display_data"
    }
   ],
   "source": [
    "data_num[['Age']].boxplot()"
   ]
  },
  {
   "cell_type": "code",
   "execution_count": 69,
   "id": "floating-psychiatry",
   "metadata": {},
   "outputs": [],
   "source": [
    "Q1 = data_num.quantile(0.25)\n",
    "Q3 = data_num.quantile(0.75)\n",
    "IQR = Q3 - Q1\n",
    "data_num = data_num[~((data_num < (Q1 - 1.5 * IQR)) |(data_num > (Q3 + 1.5 * IQR))).any(axis=1)]"
   ]
  },
  {
   "cell_type": "markdown",
   "id": "regional-certification",
   "metadata": {},
   "source": [
    "**We will get IQR for each column.Then  we filter out the outliers by keeping only valid values.**"
   ]
  },
  {
   "cell_type": "code",
   "execution_count": 34,
   "id": "enormous-malawi",
   "metadata": {},
   "outputs": [],
   "source": [
    "data=data.dropna()"
   ]
  },
  {
   "cell_type": "code",
   "execution_count": 35,
   "id": "stock-justice",
   "metadata": {},
   "outputs": [
    {
     "data": {
      "text/plain": [
       "Unnamed: 0                  0\n",
       "Daily Time Spent on Site    0\n",
       "Age                         0\n",
       "Area Income                 0\n",
       "Daily Internet Usage        0\n",
       "Ad Topic Line               0\n",
       "City                        0\n",
       "Male                        0\n",
       "Country                     0\n",
       "Timestamp                   0\n",
       "Clicked on Ad               0\n",
       "dtype: int64"
      ]
     },
     "execution_count": 35,
     "metadata": {},
     "output_type": "execute_result"
    }
   ],
   "source": [
    "data.isnull().sum()"
   ]
  },
  {
   "cell_type": "code",
   "execution_count": 42,
   "id": "bound-cameroon",
   "metadata": {},
   "outputs": [
    {
     "name": "stdout",
     "output_type": "stream",
     "text": [
      "Ad Topic Line ['Cloned 5thgeneration orchestration' 'Monitored national standardization'\n",
      " 'Robust logistical utilization' 'Sharable client-driven software'\n",
      " 'Reactive local challenge'\n",
      " 'Team-oriented grid-enabled Local Area Network'\n",
      " 'Centralized content-based focus group' 'Grass-roots coherent extranet'\n",
      " 'Persistent demand-driven interface' 'Customizable multi-tasking website'\n",
      " 'Grass-roots solution-oriented conglomeration'\n",
      " 'Advanced 24/7 productivity' 'Streamlined non-volatile analyzer'\n",
      " 'Future-proofed methodical protocol' 'Public-key foreground groupware'\n",
      " 'Ameliorated client-driven forecast' 'Digitized global capability'\n",
      " 'Intuitive exuding service-desk' 'Innovative user-facing extranet'\n",
      " 'Front-line intermediate database' 'Reduced global support'\n",
      " 'Organic leadingedge secured line'\n",
      " 'Business-focused encompassing neural-net'\n",
      " 'Centralized 24/7 installation' 'Pre-emptive value-added workforce'\n",
      " 'Team-oriented encompassing portal' 'Organized global model'\n",
      " 'Upgradable asynchronous circuit' 'Front-line heuristic data-warehouse'\n",
      " 'Focused upward-trending core' 'Upgradable optimizing toolset'\n",
      " 'Ergonomic multi-state structure' 'Synergized multimedia emulation'\n",
      " 'De-engineered object-oriented protocol'\n",
      " 'Customizable 6thgeneration knowledge user'\n",
      " 'Seamless object-oriented structure' 'Down-sized uniform info-mediaries'\n",
      " 'Triple-buffered scalable groupware'\n",
      " 'Versatile 4thgeneration system engine' 'Progressive empowering alliance'\n",
      " 'Up-sized secondary software' 'Innovative background conglomeration'\n",
      " 'Polarized 6thgeneration info-mediaries' 'Balanced heuristic approach'\n",
      " 'De-engineered mobile infrastructure'\n",
      " 'Customer-focused upward-trending contingency'\n",
      " 'Horizontal hybrid challenge' 'User-friendly asymmetric info-mediaries'\n",
      " 'Centralized systematic knowledgebase'\n",
      " 'Multi-layered user-facing paradigm' 'Customer-focused 24/7 concept'\n",
      " 'Up-sized executive moderator' 'Fully-configurable neutral open system'\n",
      " 'Upgradable system-worthy array' 'Decentralized real-time circuit'\n",
      " 'Diverse modular interface' 'Multi-channeled asynchronous open system'\n",
      " 'Function-based context-sensitive secured line'\n",
      " 'Automated coherent flexibility' 'Focused scalable complexity'\n",
      " 'Re-engineered exuding frame' 'Horizontal multi-state interface'\n",
      " 'Customer-focused multi-tasking Internet solution'\n",
      " 'Customer-focused attitude-oriented instruction set'\n",
      " 'Synergized hybrid time-frame' 'Realigned systematic function'\n",
      " 'Adaptive context-sensitive application' 'Networked high-level structure'\n",
      " 'Stand-alone tangible moderator' 'Polarized tangible collaboration'\n",
      " 'Monitored object-oriented Graphic Interface'\n",
      " 'Cloned analyzing artificial intelligence'\n",
      " 'Persistent homogeneous framework' 'Face-to-face even-keeled website'\n",
      " 'Extended context-sensitive monitoring'\n",
      " 'Seamless intangible secured line' 'Intuitive radical forecast'\n",
      " 'User-friendly client-server instruction set'\n",
      " 'Compatible systemic function' 'Configurable fault-tolerant monitoring'\n",
      " 'Future-proofed coherent hardware' 'Self-enabling optimal initiative'\n",
      " 'Cloned object-oriented benchmark' 'Phased zero administration success'\n",
      " 'Distributed 3rdgeneration definition'\n",
      " 'Pre-emptive cohesive budgetary management'\n",
      " 'Configurable multi-state utilization' 'Synergized cohesive array'\n",
      " 'Versatile dedicated software' 'Universal even-keeled analyzer'\n",
      " 'Monitored real-time superstructure' 'Streamlined analyzing initiative'\n",
      " 'Automated static concept' 'Up-sized 6thgeneration moratorium'\n",
      " 'Profit-focused attitude-oriented task-force'\n",
      " 'Open-source coherent monitoring' 'Synchronized stable complexity'\n",
      " 'Enterprise-wide bi-directional secured line'\n",
      " 'Organized contextually-based customer loyalty'\n",
      " 'Programmable uniform productivity' 'Robust transitional ability'\n",
      " 'De-engineered fault-tolerant database'\n",
      " 'Managed disintermediate matrices'\n",
      " 'Self-enabling didactic pricing structure'\n",
      " 'Right-sized asynchronous website' 'Advanced 5thgeneration capability'\n",
      " 'Universal asymmetric archive' 'Customizable zero-defect matrix'\n",
      " 'Managed well-modulated collaboration'\n",
      " 'Digitized contextually-based product' 'Reactive responsive emulation'\n",
      " 'Grass-roots eco-centric instruction set'\n",
      " 'Customer-focused incremental system engine'\n",
      " 'Ameliorated tangible hierarchy' 'Extended interactive model'\n",
      " 'Upgradable even-keeled challenge' 'Horizontal national architecture'\n",
      " 'Horizontal transitional challenge' 'Multi-lateral empowering throughput'\n",
      " 'Fundamental zero tolerance solution'\n",
      " 'Self-enabling incremental collaboration'\n",
      " 'Fully-configurable high-level implementation'\n",
      " 'Profound maximized workforce'\n",
      " 'Optional mission-critical functionalities'\n",
      " 'De-engineered tertiary secured line'\n",
      " 'Reverse-engineered well-modulated capability'\n",
      " 'Integrated coherent pricing structure'\n",
      " 'Function-based fault-tolerant model'\n",
      " 'Persevering eco-centric flexibility' 'Centralized multi-state hierarchy'\n",
      " 'Synergized coherent interface' 'Polarized multimedia system engine'\n",
      " 'Versatile reciprocal structure'\n",
      " 'Configurable tertiary budgetary management'\n",
      " 'Face-to-face mission-critical definition'\n",
      " 'Inverse zero tolerance customer loyalty'\n",
      " 'Self-enabling even-keeled methodology'\n",
      " 'Proactive client-server productivity' 'Cloned incremental matrices'\n",
      " 'Devolved regional moderator' 'Total cohesive moratorium'\n",
      " 'Integrated motivating neural-net' 'Exclusive zero tolerance frame'\n",
      " 'Robust responsive collaboration' 'Polarized logistical hub'\n",
      " 'Intuitive zero-defect framework' 'Future-proofed responsive matrix'\n",
      " 'Operative actuating installation'\n",
      " 'Self-enabling asynchronous knowledge user'\n",
      " 'Managed impactful definition' 'Focused 3rdgeneration pricing structure'\n",
      " 'Mandatory dedicated data-warehouse' 'Proactive radical support'\n",
      " 'Re-engineered responsive definition' 'Versatile content-based protocol'\n",
      " 'Cross-platform client-server hierarchy'\n",
      " 'Multi-tiered multi-state moderator'\n",
      " 'Organized demand-driven knowledgebase'\n",
      " 'User-friendly bandwidth-monitored attitude'\n",
      " 'Re-engineered context-sensitive knowledge user'\n",
      " 'Networked even-keeled workforce'\n",
      " 'Customer-focused system-worthy superstructure'\n",
      " 'Balanced 4thgeneration success' 'Visionary client-driven installation'\n",
      " 'Switchable well-modulated infrastructure'\n",
      " 'Monitored dynamic instruction set'\n",
      " 'Universal transitional Graphical User Interface'\n",
      " 'User-centric intangible contingency'\n",
      " 'Configurable disintermediate throughput'\n",
      " 'Automated web-enabled migration' 'Optional secondary access'\n",
      " 'Quality-focused scalable utilization' 'Team-oriented dynamic forecast'\n",
      " 'Horizontal heuristic support'\n",
      " 'Customer-focused zero-defect process improvement'\n",
      " 'Focused systemic benchmark' 'Seamless impactful info-mediaries'\n",
      " 'Advanced heuristic firmware'\n",
      " 'Fully-configurable client-driven customer loyalty'\n",
      " 'Networked stable open architecture'\n",
      " 'Customizable systematic service-desk'\n",
      " 'Function-based directional productivity' 'Polarized analyzing intranet'\n",
      " 'Synchronized zero tolerance product' 'Reactive interactive protocol'\n",
      " 'Business-focused high-level hardware'\n",
      " 'Reverse-engineered content-based intranet'\n",
      " 'Managed disintermediate capability'\n",
      " 'Function-based incremental standardization'\n",
      " 'Business-focused maximized complexity' 'Open-source global strategy'\n",
      " 'Stand-alone motivating moratorium' 'Grass-roots multimedia policy'\n",
      " 'Profound bottom-line standardization' 'Managed client-server access'\n",
      " 'Horizontal modular success' 'Future-proofed modular utilization'\n",
      " 'Synergistic dynamic orchestration'\n",
      " 'Team-oriented zero-defect initiative'\n",
      " 'Progressive intermediate throughput' 'Re-engineered impactful software'\n",
      " 'Ergonomic methodical encoding' 'Up-sized next generation architecture'\n",
      " 'Organic motivating model' 'Assimilated actuating policy'\n",
      " 'Organized upward-trending contingency'\n",
      " 'Multi-channeled asymmetric installation'\n",
      " 'Multi-layered fresh-thinking neural-net'\n",
      " 'Distributed cohesive migration' 'Horizontal global leverage'\n",
      " 'Synchronized grid-enabled moratorium' 'Adaptive uniform capability'\n",
      " 'Total grid-enabled application' 'Optional regional throughput'\n",
      " 'Synergistic reciprocal attitude' 'Vision-oriented uniform knowledgebase'\n",
      " 'Realigned intangible benchmark' 'Grass-roots mission-critical emulation'\n",
      " 'Reactive national success' 'Focused high-level frame'\n",
      " 'Total human-resource flexibility' 'Innovative maximized groupware'\n",
      " 'Pre-emptive neutral contingency' 'Horizontal incremental website'\n",
      " 'Digitized radical array' 'Team-oriented transitional methodology'\n",
      " 'Ameliorated exuding encryption' 'Sharable multimedia conglomeration'\n",
      " 'Open-architected web-enabled benchmark' 'Seamless optimal contingency'\n",
      " 'Secured secondary superstructure' 'Implemented disintermediate attitude'\n",
      " 'Optimized systemic capability' 'Front-line non-volatile implementation'\n",
      " 'Proactive actuating Graphical User Interface'\n",
      " 'Universal multi-state system engine' 'Secured intermediate approach'\n",
      " 'Operative didactic Local Area Network'\n",
      " 'Monitored context-sensitive initiative' 'Ergonomic empowering frame'\n",
      " 'Reverse-engineered background Graphic Interface'\n",
      " 'Profound dynamic attitude' 'Networked responsive application'\n",
      " 'Distributed intangible database'\n",
      " 'Optional contextually-based flexibility'\n",
      " 'Customer-focused impactful success' 'Organic logistical adapter'\n",
      " 'Stand-alone eco-centric system engine'\n",
      " 'User-centric intermediate knowledge user'\n",
      " 'Enhanced regional conglomeration' 'Total asynchronous architecture'\n",
      " 'Customizable value-added project' 'Integrated interactive support'\n",
      " 'Reactive impactful challenge' 'Front-line incremental access'\n",
      " 'Mandatory disintermediate info-mediaries'\n",
      " 'Digitized interactive initiative' 'Proactive secondary monitoring'\n",
      " 'Quality-focused 5thgeneration orchestration'\n",
      " 'Multi-layered secondary software' 'Total coherent superstructure'\n",
      " 'Monitored executive architecture' 'Stand-alone empowering benchmark'\n",
      " 'Digitized zero-defect implementation'\n",
      " 'Face-to-face dedicated flexibility' 'Configurable impactful capacity'\n",
      " 'Distributed leadingedge orchestration'\n",
      " 'Persistent even-keeled application'\n",
      " 'Optimized attitude-oriented initiative'\n",
      " 'Multi-channeled 3rdgeneration model'\n",
      " 'Polarized mission-critical structure' 'Realigned tangible collaboration'\n",
      " 'Phased leadingedge budgetary management'\n",
      " 'Front-line bandwidth-monitored capacity'\n",
      " 'User-centric solution-oriented emulation'\n",
      " 'Team-oriented systematic installation' 'Inverse national core'\n",
      " 'Multi-tiered heuristic strategy' 'Advanced didactic conglomeration'\n",
      " 'Pre-emptive client-server installation' 'Decentralized 24hour approach'\n",
      " 'Self-enabling zero administration neural-net'\n",
      " 'Optimized upward-trending productivity'\n",
      " 'Proactive interactive service-desk'\n",
      " 'Open-architected needs-based customer loyalty'\n",
      " 'Assimilated encompassing portal' 'Monitored explicit hierarchy'\n",
      " 'Inverse zero-defect capability' 'Multi-tiered real-time implementation'\n",
      " 'Mandatory 4thgeneration structure'\n",
      " 'Vision-oriented system-worthy forecast'\n",
      " 'Quality-focused optimizing parallelism'\n",
      " 'Right-sized solution-oriented benchmark'\n",
      " 'Configurable dynamic secured line' 'Ameliorated leadingedge help-desk'\n",
      " 'Decentralized attitude-oriented interface'\n",
      " 'Mandatory coherent groupware' 'Fully-configurable eco-centric frame'\n",
      " 'Advanced disintermediate data-warehouse'\n",
      " 'Cross-group non-volatile secured line'\n",
      " 'Triple-buffered systematic info-mediaries'\n",
      " 'Networked non-volatile synergy'\n",
      " 'Fully-configurable clear-thinking throughput'\n",
      " 'Compatible composite project'\n",
      " 'Customer-focused solution-oriented software' 'Inverse stable synergy'\n",
      " 'Centralized value-added hierarchy' 'Operative secondary functionalities'\n",
      " 'Managed 24hour analyzer' 'Pre-emptive client-driven secured line'\n",
      " 'Front-line even-keeled website' 'Integrated leadingedge frame'\n",
      " 'Ameliorated coherent open architecture' 'Up-sized maximized model'\n",
      " 'Re-engineered zero-defect open architecture'\n",
      " 'Networked logistical info-mediaries' 'Optimized multimedia website'\n",
      " 'Grass-roots transitional flexibility'\n",
      " 'Vision-oriented methodical support' 'Integrated impactful groupware'\n",
      " 'Balanced mobile Local Area Network' 'Ameliorated discrete extranet'\n",
      " 'Networked impactful framework' 'Public-key impactful neural-net'\n",
      " 'Networked asymmetric infrastructure' 'Phased 5thgeneration open system'\n",
      " 'Extended analyzing emulation' 'Front-line methodical utilization'\n",
      " 'Open-source scalable protocol' 'Enhanced systemic benchmark'\n",
      " 'Pre-emptive next generation Internet solution'\n",
      " 'Reverse-engineered web-enabled support'\n",
      " 'Intuitive transitional artificial intelligence'\n",
      " 'Diverse directional hardware' 'Total bi-directional success'\n",
      " 'Progressive 24/7 definition' 'Open-source holistic productivity'\n",
      " 'Multi-channeled scalable moratorium' 'Optional tangible productivity'\n",
      " 'Up-sized intangible circuit' 'Optional modular throughput'\n",
      " 'Function-based executive moderator'\n",
      " 'Triple-buffered foreground encryption'\n",
      " 'Vision-oriented asynchronous Internet solution'\n",
      " 'Monitored homogeneous artificial intelligence'\n",
      " 'Future-proofed stable function'\n",
      " 'Vision-oriented next generation solution'\n",
      " 'Reduced background data-warehouse' 'Open-source stable paradigm'\n",
      " 'Reverse-engineered context-sensitive emulation'\n",
      " 'Public-key disintermediate emulation'\n",
      " 'Stand-alone explicit orchestration'\n",
      " 'Public-key bi-directional Graphical User Interface'\n",
      " 'Assimilated multi-state paradigm' 'Self-enabling local strategy'\n",
      " 'Open-source local approach' 'Polarized intangible encoding'\n",
      " 'Profit-focused secondary portal'\n",
      " 'Customer-focused fault-tolerant implementation'\n",
      " 'Versatile next generation pricing structure'\n",
      " 'Face-to-face modular budgetary management'\n",
      " 'Visionary mission-critical application'\n",
      " 'Focused multimedia implementation' 'Stand-alone well-modulated product'\n",
      " 'Re-engineered optimal policy' 'Exclusive multi-state Internet solution'\n",
      " 'Proactive 5thgeneration frame' 'Ameliorated actuating workforce'\n",
      " 'Reactive bi-directional standardization'\n",
      " 'Integrated 3rdgeneration monitoring' 'Balanced responsive open system'\n",
      " 'Vision-oriented human-resource synergy'\n",
      " 'Ameliorated user-facing help-desk' 'Extended leadingedge solution']\n",
      "City ['Wrightburgh' 'West Jodi' 'South Manuel' 'Jamieberg' 'Port Jefferybury'\n",
      " 'East Theresashire' 'West Katiefurt' 'West William' 'New Travistown'\n",
      " 'West Dylanberg' 'Jessicastad' 'Millertown' 'Lake Nicole' 'Pamelamouth'\n",
      " 'Port Danielleberg' 'West Jeremyside' 'North Richardburgh'\n",
      " 'Millerchester' 'Mackenziemouth' 'Zacharystad' 'Jamesberg'\n",
      " 'Lake Cassandraport' 'New Sharon' 'West Christopher' 'East Samanthashire'\n",
      " 'Amandahaven' 'Port Sarahshire' 'Port Gregory' 'Lake Annashire'\n",
      " 'North Leonmouth' 'Jasminefort' 'New Sheila' 'North Regina' 'East Tammie'\n",
      " 'East Michaelmouth' 'East Tiffanyport' 'Lake Christopherfurt'\n",
      " 'Lake Dustin' 'Bradleyborough' 'Wongland' 'North Michael'\n",
      " 'Wallacechester' 'Bradshawborough' 'Amyhaven' 'Erinton' 'Hughesport'\n",
      " 'New Rachel' 'Lisaberg' 'Benjaminchester' 'East John' 'Lesliebury'\n",
      " 'Lake Josetown' 'New Debbiestad' 'West Shaun' 'West Ricardo'\n",
      " 'South George' 'Port Jodi' 'Jonathantown' 'East Timothyport'\n",
      " 'West Roytown' 'West Courtney' 'West Michaelhaven' 'Curtisport'\n",
      " 'South Jennifer' 'Kyleborough' 'Hernandezfort' 'Joneston'\n",
      " 'New Jeffreychester' 'Turnerchester' 'Youngfort' 'Port Julie'\n",
      " 'South Tiffanyton' 'North Elizabeth' 'Kentmouth' 'West Casey'\n",
      " 'North Johntown' 'Hannahside' 'North Russellborough' 'Hartmanchester'\n",
      " 'Mcdonaldfort' 'North Mercedes' 'West Jessicahaven' 'Millerbury'\n",
      " 'Townsendfurt' 'West Connor' 'West Justin' 'Robertbury' 'Jamesfurt'\n",
      " 'New Nancy' 'Harveyport' 'North Kevinside' 'Haleview' 'Christinetown'\n",
      " 'Jonesland' 'Petersonfurt' 'West Russell' 'North Tracyport'\n",
      " 'Derrickhaven' 'Olsonstad' 'South Jasminebury' 'East Timothy'\n",
      " 'Charlottefort' 'Lake Beckyburgh' 'West Alyssa' 'Port Aliciabury'\n",
      " 'Port Whitneyhaven' 'Jeffreyshire' 'South Tomside' 'Bethburgh'\n",
      " 'South Kyle' 'Greenechester' 'Port Jessicamouth' 'Michellefort'\n",
      " 'Harrishaven' 'Roberttown' 'New Amanda' 'North April' 'South Corey'\n",
      " 'Kimberlytown' 'New Steve' 'New Rebecca' 'South Meghan' 'Hessstad'\n",
      " 'Lewismouth' 'Hartport' 'East Yvonnechester' 'Burgessside'\n",
      " 'Contrerasshire' 'Lake Adrian' 'Sandraland' 'Luischester'\n",
      " 'West Daleborough' 'Morrismouth' 'Novaktown' 'Timothymouth'\n",
      " 'Lake Kurtmouth' 'Andersonchester' 'North Ronaldshire' 'Jordanmouth'\n",
      " 'South Robert' 'New Tyler' 'Jordanshire' 'Lake Courtney' 'Samuelborough'\n",
      " 'Christinehaven' 'New Wanda' 'Lopezberg' 'Jenniferstad' 'Bakerhaven'\n",
      " 'West Jane' 'Lake Brian' 'Alvaradoport' 'Lake Kevin' 'Monicaview'\n",
      " 'Ramirezland' 'Mataberg' 'Millerfort' 'South Jade' 'Lake Susan'\n",
      " 'Williamsport' 'East Deborahhaven' 'Paulhaven' 'Elizabethmouth'\n",
      " 'Munozberg' 'Andrewborough' 'New Gabriel' 'Port Patrickton' 'West Julia'\n",
      " 'North Aaronchester' 'Lake Matthewland' 'Kevinberg' 'Morganfort'\n",
      " 'Lovemouth' 'Taylorhaven' 'Jamesville' 'East Toddfort' 'East Dana'\n",
      " 'Lindaside' 'West Chloeborough' 'Jayville' 'Port Blake' 'Smithtown'\n",
      " 'Joanntown' 'Greentown' 'West Michaelstad' 'North Lisachester'\n",
      " 'North Alexandra' 'North Anaport' 'Pattymouth' 'South Alexisborough'\n",
      " 'East Jennifer' 'New Charleschester' 'East Breannafurt' 'Estesfurt'\n",
      " 'Kingshire' 'Rebeccamouth' 'South Aaron' 'Catherinefort'\n",
      " 'North Isabellaville' 'Danielview' 'Lake Jennifer' 'West Carmenfurt'\n",
      " 'Hatfieldshire' 'Brianabury' 'Dustinborough' 'East Michaelland'\n",
      " 'East Connie' 'Port Christopher' 'South Patrickfort' 'East Georgeside'\n",
      " 'Charlesbury' 'Loriville' 'West Robertside' 'Rochabury' 'Wrightview'\n",
      " 'South Meredithmouth' 'Tammyshire' 'Greerport' 'East Heatherside'\n",
      " 'Port Elijah' 'Andersonfurt' 'East Rachaelfurt' 'Lake Johnbury'\n",
      " 'Lake Timothy' 'East Brettton' 'Kevinchester' 'Port Brenda'\n",
      " 'Port Brianfort' 'South Brian' 'Julietown' 'Lukeport' 'East Maureen'\n",
      " 'Amandafort' 'Michaelmouth' 'Ronaldport' 'Port Calvintown' 'Estradashire'\n",
      " 'Brianland' 'East Debraborough' 'Colemanshire' 'Troyville'\n",
      " 'Harrisonmouth' 'Karenmouth' 'New Christinatown' 'Jacksonstad'\n",
      " 'South Margaret' 'New Jessicaport' 'Sanderstown' 'Luisfurt'\n",
      " 'New Karenberg' 'West Leahton' 'Lake Jacob' 'Jeremybury' 'Meyerchester'\n",
      " 'Salazarbury' 'Wintersfort' 'Jamesmouth' 'Laurieside' 'Andrewmouth'\n",
      " 'Leahside' 'Kennethview' 'Port Sherrystad' 'Lesliefort' 'Shawnside'\n",
      " 'Josephmouth' 'Garciatown' 'Chaseshire' 'New Kayla' 'Kingchester'\n",
      " 'South Adamhaven' 'Brittanyborough' 'Crawfordfurt' 'Turnerville'\n",
      " 'Watsonfort' 'Nicholasport' 'Coffeytown' 'Robinsonland' 'Ericksonmouth'\n",
      " 'Yangside' 'Lake Hailey' 'Olsonside' 'Meaganfort' 'Princebury'\n",
      " 'Sanchezland' 'Rogerland' 'Jessicashire' 'Johnsontown' 'Hernandezside'\n",
      " 'Gilbertville' 'West Alice' 'South Lisa' 'South Davidmouth' 'Carterton'\n",
      " 'Rachelhaven' 'New Timothy' 'South Dianeshire' 'West Shannon'\n",
      " 'Micheletown' 'Port Jasmine' 'New Sabrina' 'Lake Charlottestad'\n",
      " 'Villanuevastad' 'Lake Vanessa' 'Port Douglasborough' 'New Sean'\n",
      " 'Lake Lisa' 'New Travis' 'North Samantha' 'Patrickmouth' 'Jeffreymouth'\n",
      " 'Lake Jessicaville' 'Hernandezchester' 'Lake Rhondaburgh'\n",
      " 'Cunninghamhaven' 'Robertstown' 'Port Karenfurt' 'West Derekmouth'\n",
      " 'East Christopher' 'Rickymouth' 'Lake Michelle' 'Sabrinaview'\n",
      " 'North Jonathan' 'Port Christina' 'Juanport' 'West Steven' 'Daisymouth'\n",
      " 'North Daniel' 'New Teresa' 'North Raymond' 'East Troyhaven' 'Lake Jose'\n",
      " 'Lake Danielle' 'Joshuaburgh' 'South Jeanneport' 'New Nathan'\n",
      " 'New Julianberg' 'West Dennis' 'Austinborough' 'West David' 'Robertfurt'\n",
      " 'Campbellstad' 'South Christopher' 'Zacharyton' 'Hawkinsbury'\n",
      " 'Elizabethport' 'West Amanda' 'West Arielstad' 'New Marcusbury'\n",
      " 'Williamsfort' 'North Tiffany' 'Edwardsport' 'Lake Evantown'\n",
      " 'West Gregburgh' 'Port Michaelmouth' 'West Lacey' 'South Davidhaven'\n",
      " 'North Virginia' 'West Annefort' 'East Jason' 'West Gabriellamouth'\n",
      " 'Claytonside' 'Lake Michaelport' 'Kaylashire' 'Port Joshuafort' 'Beckton'\n",
      " 'New Frankshire' 'Lindsaymouth' 'South Denise' 'New Patrick']\n",
      "Country ['Tunisia' 'Nauru' 'Iceland' 'Norway' 'Australia' 'Burundi' 'Egypt'\n",
      " 'Barbados' 'Spain' 'Palestinian Territory'\n",
      " 'British Indian Ocean Territory (Chagos Archipelago)'\n",
      " 'Russian Federation' 'Cameroon' 'Korea' 'Monaco' 'Tuvalu' 'Maldives'\n",
      " 'Liberia' 'Niger' 'Turkmenistan' 'Qatar' 'Italy' 'Guinea-Bissau' 'Turkey'\n",
      " 'Svalbard & Jan Mayen Islands' 'Azerbaijan'\n",
      " 'Saint Vincent and the Grenadines' 'Bulgaria' 'Canada' 'Norfolk Island'\n",
      " 'Cook Islands' 'Guatemala' \"Cote d'Ivoire\" 'Montserrat' 'Puerto Rico'\n",
      " 'Samoa' 'Albania' 'Guernsey' 'Tanzania' 'Christmas Island' 'Guinea'\n",
      " 'Guyana' 'Dominica' 'Antarctica (the territory South of 60 deg S)'\n",
      " 'Gibraltar' 'Saint Helena' 'Netherlands' 'South Africa' 'Togo' 'Kenya'\n",
      " 'Timor-Leste' 'Cambodia' 'Ukraine' 'Angola' 'Mongolia' 'Chad' 'Portugal'\n",
      " 'Rwanda' 'China' 'Bouvet Island (Bouvetoya)' 'Peru' 'Argentina'\n",
      " 'Philippines' 'Senegal' 'Suriname' 'Georgia' 'Jordan' 'Cyprus'\n",
      " 'Kyrgyz Republic' 'Pakistan' 'Mauritania' 'Fiji' 'Kazakhstan' 'Bahrain'\n",
      " 'Colombia' 'Turks and Caicos Islands' 'Martinique' 'Afghanistan'\n",
      " 'French Southern Territories' 'Tajikistan' 'Ecuador' 'Moldova' 'Cuba'\n",
      " 'Papua New Guinea' 'Liechtenstein' 'Malaysia' 'Guadeloupe' 'Belgium'\n",
      " 'Israel' 'Saint Pierre and Miquelon' 'American Samoa' 'Taiwan' 'Chile'\n",
      " 'Mayotte' 'Lebanon' 'France' 'Congo' 'United States of America'\n",
      " 'Anguilla' 'New Caledonia' 'Bosnia and Herzegovina'\n",
      " 'Falkland Islands (Malvinas)' 'Czech Republic' 'Eritrea' 'Mexico'\n",
      " 'Reunion' 'Faroe Islands' 'Croatia' 'Burkina Faso' 'El Salvador'\n",
      " 'Madagascar' 'Bangladesh' 'Bolivia' 'Palau' 'Zambia' 'Myanmar' 'Serbia'\n",
      " 'Estonia' 'Greenland' 'Niue' 'Austria' 'Germany' 'Equatorial Guinea'\n",
      " 'Micronesia' 'Brunei Darussalam' 'French Polynesia'\n",
      " 'Holy See (Vatican City State)' 'Djibouti' 'Mali' 'Romania'\n",
      " 'Cayman Islands' 'Algeria' 'Ethiopia' 'Western Sahara' 'New Zealand'\n",
      " 'Libyan Arab Jamahiriya' 'Jamaica' 'Somalia' 'Belize' 'Bahamas' 'Comoros'\n",
      " 'Vanuatu' 'Malawi' 'Yemen' 'Antigua and Barbuda' 'Seychelles'\n",
      " 'Saudi Arabia' 'Jersey' 'Cape Verde' 'Morocco' 'Isle of Man' 'Slovenia'\n",
      " 'Belarus' 'Benin' 'Syrian Arab Republic' 'Greece'\n",
      " \"Lao People's Democratic Republic\" 'Andorra' 'Vietnam' 'Hungary' 'Gabon'\n",
      " 'United Arab Emirates' 'Malta' 'Japan' 'Mauritius' 'Pitcairn Islands'\n",
      " 'United States Virgin Islands' 'Uganda' 'Armenia' 'Finland' 'Sweden'\n",
      " 'Venezuela' 'Tokelau' 'India' 'United States Minor Outlying Islands'\n",
      " 'Ghana' 'Iran' 'Costa Rica' 'Northern Mariana Islands' 'Grenada' 'Poland'\n",
      " 'Namibia' 'Wallis and Futuna' 'Zimbabwe' 'Saint Martin' 'Denmark'\n",
      " 'Latvia' 'Nepal' 'Hong Kong' 'Switzerland' 'Central African Republic'\n",
      " 'Macao' 'Paraguay' 'Dominican Republic' 'Bermuda' 'Saint Barthelemy'\n",
      " 'Brazil' 'Montenegro']\n",
      "Timestamp ['2016-03-27 0:53:11' '2016-04-04 1:39:02' '2016-06-03 3:36:18'\n",
      " '2016-05-19 14:30:17' '2016-03-07 1:40:15' '2016-05-08 8:10:10'\n",
      " '2016-06-03 1:14:41' '2016-03-24 9:31:49' '2016-03-09 3:41:30'\n",
      " '2016-01-30 19:20:41' '2016-02-13 7:53:55' '2016-02-27 4:43:07'\n",
      " '2016-03-18 13:22:35' '2016-03-23 9:43:43' '2016-05-27 15:25:52'\n",
      " '2016-02-08 10:46:14' '2016-07-15 5:05:14' '2016-03-11 6:49:10'\n",
      " '2016-04-27 9:27:58' '2016-04-16 11:53:43' '2016-02-11 13:26:22'\n",
      " '2016-02-17 13:16:33' '2016-02-26 22:46:43' '2016-04-25 11:01:54'\n",
      " '2016-01-17 9:31:36' '2016-02-14 7:36:58' '2016-04-10 0:13:47'\n",
      " '2016-02-14 17:05:15' '2016-06-15 5:30:13' '2016-03-31 20:55:22'\n",
      " '2016-03-10 23:36:03' '2016-01-16 11:35:01' '2016-04-22 20:10:22'\n",
      " '2016-03-08 0:37:54' '2016-04-06 11:24:21' '2016-04-01 16:21:05'\n",
      " '2016-01-05 17:56:52' '2016-06-12 15:25:44' '2016-05-22 20:49:37'\n",
      " '2016-07-08 21:18:32' '2016-03-28 8:46:26' '2016-07-09 14:55:36'\n",
      " '2016-06-10 11:31:33' '2016-02-14 3:50:52' '2016-04-28 5:50:25'\n",
      " '2016-04-03 5:10:31' '2016-01-09 5:44:56' '2016-05-17 4:27:31'\n",
      " '2016-04-04 21:30:46' '2016-05-13 6:09:28' '2016-03-27 23:59:06'\n",
      " '2016-02-05 19:06:01' '2016-06-14 11:59:58' '2016-02-06 23:08:57'\n",
      " '2016-02-07 8:02:31' '2016-04-10 19:48:01' '2016-05-28 20:41:50'\n",
      " '2016-03-24 6:36:52' '2016-06-10 10:11:00' '2016-03-31 10:44:46'\n",
      " '2016-06-20 9:35:02' '2016-02-29 12:31:57' '2016-07-14 12:07:10'\n",
      " '2016-05-27 6:19:27' '2016-01-25 7:39:41' '2016-02-10 6:52:07'\n",
      " '2016-03-27 9:11:10' '2016-05-23 2:15:04' '2016-01-04 21:48:38'\n",
      " '2016-05-24 13:30:38' '2016-06-19 3:19:44' '2016-07-21 21:16:35'\n",
      " '2016-02-12 20:36:40' '2016-05-17 6:14:20' '2016-07-09 11:04:54'\n",
      " '2016-05-10 7:22:37' '2016-03-27 3:59:26' '2016-02-11 2:40:02'\n",
      " '2016-02-03 4:21:14' '2016-05-29 21:17:10' '2016-04-03 21:13:46'\n",
      " '2016-05-06 21:07:31' '2016-03-24 9:12:52' '2016-04-25 7:30:21'\n",
      " '2016-04-23 14:34:38' '2016-06-18 17:56:32' '2016-07-17 1:58:53'\n",
      " '2016-06-26 11:52:18' '2016-03-30 23:40:52' '2016-05-04 0:01:33'\n",
      " '2016-05-23 21:14:38' '2016-01-29 20:16:54' '2016-07-23 14:47:23'\n",
      " '2016-06-09 21:43:05' '2016-02-10 15:23:17' '2016-06-12 5:31:19'\n",
      " '2016-03-02 10:07:43' '2016-01-31 4:10:20' '2016-06-11 8:38:16'\n",
      " '2016-06-18 17:23:26' '2016-03-17 5:00:12' '2016-06-29 13:35:05'\n",
      " '2016-02-02 8:55:26' '2016-07-20 9:27:24' '2016-02-15 7:55:10'\n",
      " '2016-02-09 19:37:52' '2016-01-25 7:52:53' '2016-05-26 13:18:30'\n",
      " '2016-05-21 1:36:16' '2016-05-05 11:09:29' '2016-05-29 7:29:27'\n",
      " '2016-04-16 16:38:35' '2016-01-23 17:39:06' '2016-04-18 3:41:56'\n",
      " '2016-06-13 13:59:51' '2016-02-19 7:29:30' '2016-04-20 0:41:53'\n",
      " '2016-04-21 9:30:35' '2016-02-16 18:21:36' '2016-02-18 23:08:59'\n",
      " '2016-01-28 11:50:40' '2016-02-03 19:12:51' '2016-04-28 22:54:37'\n",
      " '2016-07-15 9:08:42' '2016-07-16 14:13:54' '2016-04-18 0:49:33'\n",
      " '2016-07-17 1:13:56' '2016-03-18 17:35:40' '2016-01-30 16:15:29'\n",
      " '2016-01-05 16:34:31' '2016-04-21 16:10:50' '2016-05-22 21:54:23'\n",
      " '2016-07-13 7:41:42' '2016-05-20 12:17:59' '2016-04-21 12:34:28'\n",
      " '2016-04-22 20:32:17' '2016-04-04 8:19:54' '2016-04-08 22:48:25'\n",
      " '2016-01-19 12:18:13' '2016-01-26 15:56:55' '2016-07-13 11:41:29'\n",
      " '2016-07-05 15:14:10' '2016-03-15 14:06:17' '2016-07-21 23:14:35'\n",
      " '2016-06-03 17:32:47' '2016-01-15 19:40:47' '2016-05-08 12:08:26'\n",
      " '2016-06-15 11:56:41' '2016-06-13 22:41:45' '2016-05-31 23:42:26'\n",
      " '2016-03-10 23:26:54' '2016-02-26 17:01:01' '2016-04-17 21:39:11'\n",
      " '2016-03-26 19:54:16' '2016-07-09 16:23:33' '2016-07-11 15:45:23'\n",
      " '2016-06-06 22:41:24' '2016-04-17 19:10:56' '2016-06-29 9:04:31'\n",
      " '2016-05-26 13:43:05' '2016-05-09 10:21:48' '2016-01-03 17:10:05'\n",
      " '2016-07-17 18:55:38' '2016-02-27 12:34:19' '2016-06-08 20:13:27'\n",
      " '2016-06-07 1:29:06' '2016-05-30 20:07:59' '2016-04-01 9:21:14'\n",
      " '2016-05-31 6:21:02' '2016-07-03 22:13:19' '2016-05-30 18:08:19'\n",
      " '2016-02-20 0:06:20' '2016-03-10 22:28:52' '2016-06-21 14:32:32'\n",
      " '2016-02-05 15:26:37' '2016-05-31 21:41:46' '2016-01-01 2:52:10'\n",
      " '2016-03-04 14:10:12' '2016-02-03 10:40:27' '2016-03-08 5:48:20'\n",
      " '2016-02-14 22:23:30' '2016-07-17 22:04:54' '2016-07-18 1:36:37'\n",
      " '2016-06-19 18:19:38' '2016-01-08 8:08:47' '2016-03-08 10:39:16'\n",
      " '2016-03-02 5:11:01' '2016-07-04 11:03:49' '2016-02-10 13:46:35'\n",
      " '2016-05-02 0:01:56' '2016-02-07 17:06:35' '2016-02-15 7:27:41'\n",
      " '2016-02-21 5:23:28' '2016-03-24 9:34:00' '2016-04-04 20:01:12'\n",
      " '2016-07-08 17:14:01' '2016-05-19 9:30:12' '2016-04-12 12:35:39'\n",
      " '2016-02-01 0:52:29' '2016-01-01 20:17:49' '2016-03-23 8:52:31'\n",
      " '2016-04-05 5:54:15' '2016-04-04 22:00:15' '2016-07-07 3:55:01'\n",
      " '2016-03-14 3:29:12' '2016-05-30 2:34:25' '2016-06-26 17:25:55'\n",
      " '2016-01-21 4:30:43' '2016-05-01 21:46:37' '2016-06-16 20:24:33'\n",
      " '2016-07-21 10:01:50' '2016-04-21 18:31:27' '2016-07-20 1:56:33'\n",
      " '2016-02-26 17:14:14' '2016-06-24 8:42:20' '2016-05-26 15:40:12'\n",
      " '2016-04-27 18:25:30' '2016-03-09 2:07:17' '2016-01-07 21:21:50'\n",
      " '2016-02-17 18:50:57' '2016-01-29 5:39:16' '2016-03-19 11:09:36'\n",
      " '2016-04-25 16:58:50' '2016-02-14 16:33:29' '2016-03-16 20:10:53'\n",
      " '2016-06-26 2:06:59' '2016-06-19 23:21:38' '2016-03-01 22:06:37'\n",
      " '2016-04-29 18:53:43' '2016-07-15 15:43:36' '2016-03-24 5:38:01'\n",
      " '2016-04-09 23:26:42' '2016-06-23 11:05:01' '2016-01-24 1:53:14'\n",
      " '2016-06-20 8:34:46' '2016-07-01 1:12:04' '2016-03-07 22:51:00'\n",
      " '2016-05-02 15:31:28' '2016-02-26 1:18:44' '2016-01-14 9:27:59'\n",
      " '2016-04-25 3:18:45' '2016-02-18 3:58:36' '2016-06-29 1:19:21'\n",
      " '2016-01-05 6:34:20' '2016-06-17 3:23:13' '2016-04-05 8:18:45'\n",
      " '2016-02-03 16:54:33' '2016-04-18 21:07:28' '2016-06-18 22:31:22'\n",
      " '2016-01-15 1:20:05' '2016-02-12 10:39:10' '2016-04-04 21:23:13'\n",
      " '2016-04-24 1:48:21' '2016-05-20 0:00:48' '2016-06-10 4:21:57'\n",
      " '2016-01-14 20:58:10' '2016-03-19 8:00:58' '2016-01-22 15:03:25'\n",
      " '2016-03-04 14:33:38' '2016-06-29 2:48:44' '2016-06-18 1:42:37'\n",
      " '2016-01-31 9:57:34' '2016-01-23 21:15:57' '2016-01-04 6:37:15'\n",
      " '2016-06-01 3:17:50' '2016-02-26 19:35:54' '2016-07-13 14:30:14'\n",
      " '2016-06-29 7:20:46' '2016-03-15 6:54:21' '2016-06-11 6:47:55'\n",
      " '2016-07-17 13:22:43' '2016-05-20 12:17:28' '2016-02-28 23:21:22'\n",
      " '2016-03-15 20:19:20' '2016-07-23 5:21:39' '2016-07-06 23:09:07'\n",
      " '2016-03-22 19:14:47' '2016-03-20 7:12:52' '2016-02-03 15:15:42'\n",
      " '2016-06-20 2:25:12' '2016-01-04 4:00:35' '2016-01-05 11:53:17'\n",
      " '2016-03-17 22:24:02' '2016-06-20 8:22:09' '2016-02-06 17:48:28'\n",
      " '2016-04-16 5:24:33' '2016-03-11 0:05:48' '2016-03-27 19:50:11'\n",
      " '2016-04-29 13:38:19' '2016-06-05 7:54:30' '2016-04-24 13:46:10'\n",
      " '2016-06-15 5:43:02' '2016-03-31 13:54:51' '2016-05-27 5:23:26'\n",
      " '2016-04-07 18:52:57' '2016-03-12 6:05:12' '2016-06-04 9:13:29'\n",
      " '2016-05-24 10:16:38' '2016-03-25 6:36:53' '2016-03-22 4:13:35'\n",
      " '2016-04-14 21:37:49' '2016-05-31 17:50:15' '2016-03-17 6:25:47'\n",
      " '2016-02-03 22:11:13' '2016-02-02 19:59:17' '2016-04-07 20:38:02'\n",
      " '2016-05-17 18:06:46' '2016-05-01 8:27:12' '2016-03-18 9:08:39'\n",
      " '2016-04-10 6:32:11' '2016-01-20 2:31:36' '2016-01-17 4:12:30'\n",
      " '2016-02-24 7:13:00' '2016-06-04 9:25:27' '2016-03-31 8:53:43'\n",
      " '2016-05-12 20:57:10' '2016-05-07 21:32:51' '2016-01-15 19:45:33'\n",
      " '2016-04-23 9:42:08' '2016-05-23 8:06:24' '2016-03-17 22:59:46'\n",
      " '2016-03-03 20:20:32' '2016-04-06 23:10:40' '2016-04-26 21:45:50'\n",
      " '2016-02-11 16:45:41' '2016-07-12 10:56:21' '2016-03-11 13:07:30'\n",
      " '2016-03-02 15:39:02' '2016-07-13 21:31:14' '2016-05-07 8:39:47'\n",
      " '2016-03-08 5:12:57' '2016-02-09 23:38:30' '2016-06-01 12:27:17'\n",
      " '2016-03-24 17:48:31' '2016-03-09 12:10:08' '2016-06-07 5:41:16'\n",
      " '2016-01-10 20:18:21' '2016-02-21 16:57:59' '2016-05-23 0:32:54'\n",
      " '2016-07-21 20:30:06' '2016-02-24 6:17:18' '2016-04-18 7:00:38'\n",
      " '2016-01-12 21:17:15' '2016-02-11 17:02:07' '2016-06-26 2:34:15'\n",
      " '2016-02-16 12:05:45' '2016-02-25 16:33:24' '2016-02-12 5:20:19'\n",
      " '2016-03-26 15:28:07' '2016-02-16 7:37:28' '2016-02-28 9:31:31'\n",
      " '2016-01-05 12:59:07' '2016-04-29 20:40:21' '2016-05-31 0:58:37'\n",
      " '2016-01-01 5:31:22' '2016-05-27 8:53:51' '2016-05-09 7:13:27'\n",
      " '2016-02-24 0:44:44' '2016-01-15 22:49:45' '2016-02-19 20:49:27'\n",
      " '2016-07-23 4:04:42' '2016-02-17 20:22:49' '2016-02-08 22:45:26'\n",
      " '2016-02-12 1:55:38' '2016-02-04 3:10:17' '2016-02-17 11:15:31'\n",
      " '2016-02-20 9:54:06' '2016-01-01 3:35:35' '2016-05-05 11:07:13'\n",
      " '2016-05-24 17:07:08' '2016-03-30 14:36:55' '2016-03-03 3:13:48'\n",
      " '2016-06-26 7:01:47' '2016-03-06 11:36:06']\n"
     ]
    }
   ],
   "source": [
    "data_cat=data.select_dtypes( include='object' )\n",
    "for i in data_cat:\n",
    "    print(i,data_cat[i].unique())"
   ]
  },
  {
   "cell_type": "code",
   "execution_count": null,
   "id": "following-russian",
   "metadata": {},
   "outputs": [],
   "source": [
    "for i in data_cat:\n",
    "    if i!='date':\n",
    "        dataset[i] = dataset[i].str.strip()\n",
    "        LabelEncoder_ = preprocessing.LabelEncoder()\n",
    "        dataset[i] = LabelEncoder_.fit_transform(dataset[i])"
   ]
  },
  {
   "cell_type": "code",
   "execution_count": 110,
   "id": "precise-lobby",
   "metadata": {},
   "outputs": [],
   "source": [
    "X = data_num[['Daily Time Spent on Site','Age','Area Income','Clicked on Ad']].copy()\n",
    "Y=data_num[['Daily Internet Usage']].copy()"
   ]
  },
  {
   "cell_type": "code",
   "execution_count": 71,
   "id": "formal-technique",
   "metadata": {},
   "outputs": [
    {
     "data": {
      "text/plain": [
       "((965, 4), (965, 1))"
      ]
     },
     "execution_count": 71,
     "metadata": {},
     "output_type": "execute_result"
    }
   ],
   "source": [
    "X.shape, Y.shape"
   ]
  },
  {
   "cell_type": "code",
   "execution_count": 153,
   "id": "unnecessary-recruitment",
   "metadata": {},
   "outputs": [],
   "source": [
    "x_train, x_test, y_train, y_test = train_test_split(X, Y, test_size=0.3, random_state=0 )"
   ]
  },
  {
   "cell_type": "code",
   "execution_count": 146,
   "id": "initial-basis",
   "metadata": {},
   "outputs": [],
   "source": [
    "x_train_ols =  sm.add_constant(x_train)\n",
    "ols_model = sm.OLS(y_train, x_train, missing=\"drop\").fit()\n",
    "y_predicted_ols=ols_model.predict(x_test)"
   ]
  },
  {
   "cell_type": "markdown",
   "id": "funded-michael",
   "metadata": {},
   "source": [
    "**Now we can use the train_test_split function in order to make the split. The test_size=0.3 inside the function indicates the percentage of the data that should be held over for testing.**"
   ]
  },
  {
   "cell_type": "markdown",
   "id": "polished-hawaiian",
   "metadata": {},
   "source": [
    "\n",
    "<h3>Task-3. Dummy model creation</h3>  \n"
   ]
  },
  {
   "cell_type": "code",
   "execution_count": 147,
   "id": "existing-scanner",
   "metadata": {},
   "outputs": [],
   "source": [
    "lr_model = linear_model.LinearRegression()"
   ]
  },
  {
   "cell_type": "code",
   "execution_count": 148,
   "id": "martial-acting",
   "metadata": {},
   "outputs": [
    {
     "data": {
      "text/plain": [
       "LinearRegression()"
      ]
     },
     "execution_count": 148,
     "metadata": {},
     "output_type": "execute_result"
    }
   ],
   "source": [
    "lr_model.fit(x_train, y_train)"
   ]
  },
  {
   "cell_type": "code",
   "execution_count": 154,
   "id": "prescribed-scanning",
   "metadata": {},
   "outputs": [
    {
     "name": "stdout",
     "output_type": "stream",
     "text": [
      "Score: 0.49445825713205116\n"
     ]
    }
   ],
   "source": [
    "print('Score:', lr_model.score(x_test, y_test))\n"
   ]
  },
  {
   "cell_type": "markdown",
   "id": "human-teacher",
   "metadata": {},
   "source": [
    "**We printed the accuracy score 0.49445825713205116**"
   ]
  },
  {
   "cell_type": "markdown",
   "id": "express-worth",
   "metadata": {},
   "source": [
    "<h3>Task-4. Improving the model </h3>"
   ]
  },
  {
   "cell_type": "code",
   "execution_count": 174,
   "id": "improving-genealogy",
   "metadata": {},
   "outputs": [],
   "source": [
    "from sklearn.feature_selection import SelectKBest, f_regression\n",
    "from sklearn.model_selection import KFold, StratifiedKFold, cross_val_score,cross_val_predict\n",
    "from sklearn import linear_model, tree, ensemble\n",
    "from sklearn import metrics\n",
    "from sklearn.linear_model import LogisticRegression\n",
    "from sklearn import model_selection\n"
   ]
  },
  {
   "cell_type": "code",
   "execution_count": 142,
   "id": "secret-table",
   "metadata": {},
   "outputs": [],
   "source": [
    "skbest = SelectKBest(score_func=f_regression, k = 5)"
   ]
  },
  {
   "cell_type": "code",
   "execution_count": 143,
   "id": "professional-disabled",
   "metadata": {},
   "outputs": [],
   "source": [
    "y = data_num[['Daily Internet Usage']].copy()\n",
    "X = data_num[['Daily Time Spent on Site','Age','Area Income','Clicked on Ad']].copy()"
   ]
  },
  {
   "cell_type": "code",
   "execution_count": 152,
   "id": "ultimate-election",
   "metadata": {},
   "outputs": [
    {
     "name": "stdout",
     "output_type": "stream",
     "text": [
      "Cross-validated scores: [0.48334997 0.5111376  0.48108023 0.43188777 0.52060877]\n"
     ]
    }
   ],
   "source": [
    "scores = cross_val_score(lr_model, X, y, cv=5)\n",
    "print('Cross-validated scores:', scores)"
   ]
  },
  {
   "cell_type": "code",
   "execution_count": 136,
   "id": "medium-reflection",
   "metadata": {},
   "outputs": [
    {
     "name": "stdout",
     "output_type": "stream",
     "text": [
      "Cross-Predicted Accuracy: 0.4906201183716955\n"
     ]
    }
   ],
   "source": [
    "predictions = cross_val_predict(lr_model, X, y, cv=5)\n",
    "accuracy = metrics.r2_score(y, predictions)\n",
    "print('Cross-Predicted Accuracy:', accuracy)"
   ]
  },
  {
   "cell_type": "markdown",
   "id": "musical-planning",
   "metadata": {},
   "source": [
    "**We performed 5-fold cross validation**"
   ]
  },
  {
   "cell_type": "markdown",
   "id": "photographic-butterfly",
   "metadata": {},
   "source": [
    "<h3>Task-5. Summary</h3>  \n"
   ]
  },
  {
   "cell_type": "markdown",
   "id": "prostate-twenty",
   "metadata": {},
   "source": [
    " **I’ve loaded in the data, split it into a training and testing sets, fitted a regression model to the training data, made predictions based on this data and tested the predictions on the test data.Firstly,I used dummy model to predict our target.Then I improved our model using by cross-calidation.It’s very similar to train/test split, but it’s applied to more subsets. Meaning, we split our data into k subsets, and train on k-1 one of those subset. What we do is to hold the last subset for test. We’re able to do it for each of the subsets. As you can see, the last fold improved the score of the original model — from 0.485 to 0.569.**"
   ]
  },
  {
   "cell_type": "code",
   "execution_count": null,
   "id": "certified-temple",
   "metadata": {},
   "outputs": [],
   "source": []
  }
 ],
 "metadata": {
  "kernelspec": {
   "display_name": "Python 3",
   "language": "python",
   "name": "python3"
  },
  "language_info": {
   "codemirror_mode": {
    "name": "ipython",
    "version": 3
   },
   "file_extension": ".py",
   "mimetype": "text/x-python",
   "name": "python",
   "nbconvert_exporter": "python",
   "pygments_lexer": "ipython3",
   "version": "3.9.0"
  }
 },
 "nbformat": 4,
 "nbformat_minor": 5
}
