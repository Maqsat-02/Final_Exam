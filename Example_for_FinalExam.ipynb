{
 "cells": [
  {
   "cell_type": "markdown",
   "id": "returning-seven",
   "metadata": {},
   "source": [
    "  <h1>     EDA  </h1>"
   ]
  },
  {
   "cell_type": "code",
   "execution_count": 115,
   "id": "final-delta",
   "metadata": {},
   "outputs": [],
   "source": [
    "import pandas as pd\n",
    "import numpy  as np\n",
    "import matplotlib.pyplot as plt\n",
    "import seaborn as sns"
   ]
  },
  {
   "cell_type": "code",
   "execution_count": 69,
   "id": "useful-course",
   "metadata": {},
   "outputs": [],
   "source": [
    "data = pd.read_csv(\"advertisement_data_logistic_regression.csv\")"
   ]
  },
  {
   "cell_type": "code",
   "execution_count": 79,
   "id": "printable-dryer",
   "metadata": {},
   "outputs": [
    {
     "data": {
      "text/html": [
       "<div>\n",
       "<style scoped>\n",
       "    .dataframe tbody tr th:only-of-type {\n",
       "        vertical-align: middle;\n",
       "    }\n",
       "\n",
       "    .dataframe tbody tr th {\n",
       "        vertical-align: top;\n",
       "    }\n",
       "\n",
       "    .dataframe thead th {\n",
       "        text-align: right;\n",
       "    }\n",
       "</style>\n",
       "<table border=\"1\" class=\"dataframe\">\n",
       "  <thead>\n",
       "    <tr style=\"text-align: right;\">\n",
       "      <th></th>\n",
       "      <th>Unnamed: 0</th>\n",
       "      <th>Daily Time Spent on Site</th>\n",
       "      <th>Age</th>\n",
       "      <th>Area Income</th>\n",
       "      <th>Daily Internet Usage</th>\n",
       "      <th>Ad Topic Line</th>\n",
       "      <th>City</th>\n",
       "      <th>Male</th>\n",
       "      <th>Country</th>\n",
       "      <th>Timestamp</th>\n",
       "      <th>Clicked on Ad</th>\n",
       "    </tr>\n",
       "  </thead>\n",
       "  <tbody>\n",
       "    <tr>\n",
       "      <th>0</th>\n",
       "      <td>0</td>\n",
       "      <td>68.95</td>\n",
       "      <td>35.0</td>\n",
       "      <td>61833.90</td>\n",
       "      <td>256.09</td>\n",
       "      <td>Cloned 5thgeneration orchestration</td>\n",
       "      <td>Wrightburgh</td>\n",
       "      <td>0.0</td>\n",
       "      <td>Tunisia</td>\n",
       "      <td>2016-03-27 0:53:11</td>\n",
       "      <td>0.0</td>\n",
       "    </tr>\n",
       "    <tr>\n",
       "      <th>1</th>\n",
       "      <td>1</td>\n",
       "      <td>80.23</td>\n",
       "      <td>31.0</td>\n",
       "      <td>68441.85</td>\n",
       "      <td>193.77</td>\n",
       "      <td>Monitored national standardization</td>\n",
       "      <td>West Jodi</td>\n",
       "      <td>1.0</td>\n",
       "      <td>Nauru</td>\n",
       "      <td>2016-04-04 1:39:02</td>\n",
       "      <td>0.0</td>\n",
       "    </tr>\n",
       "    <tr>\n",
       "      <th>2</th>\n",
       "      <td>2</td>\n",
       "      <td>69.47</td>\n",
       "      <td>26.0</td>\n",
       "      <td>NaN</td>\n",
       "      <td>NaN</td>\n",
       "      <td>Organic bottom-line service-desk</td>\n",
       "      <td>Davidton</td>\n",
       "      <td>0.0</td>\n",
       "      <td>San Marino</td>\n",
       "      <td>2016-03-13 20:35:42</td>\n",
       "      <td>0.0</td>\n",
       "    </tr>\n",
       "    <tr>\n",
       "      <th>3</th>\n",
       "      <td>3</td>\n",
       "      <td>NaN</td>\n",
       "      <td>NaN</td>\n",
       "      <td>54806.18</td>\n",
       "      <td>245.89</td>\n",
       "      <td>Triple-buffered reciprocal time-frame</td>\n",
       "      <td>West Terrifurt</td>\n",
       "      <td>1.0</td>\n",
       "      <td>Italy</td>\n",
       "      <td>2016-01-10 2:31:19</td>\n",
       "      <td>0.0</td>\n",
       "    </tr>\n",
       "    <tr>\n",
       "      <th>4</th>\n",
       "      <td>4</td>\n",
       "      <td>68.37</td>\n",
       "      <td>35.0</td>\n",
       "      <td>73889.99</td>\n",
       "      <td>225.58</td>\n",
       "      <td>Robust logistical utilization</td>\n",
       "      <td>South Manuel</td>\n",
       "      <td>0.0</td>\n",
       "      <td>Iceland</td>\n",
       "      <td>2016-06-03 3:36:18</td>\n",
       "      <td>0.0</td>\n",
       "    </tr>\n",
       "  </tbody>\n",
       "</table>\n",
       "</div>"
      ],
      "text/plain": [
       "   Unnamed: 0  Daily Time Spent on Site   Age  Area Income  \\\n",
       "0           0                     68.95  35.0     61833.90   \n",
       "1           1                     80.23  31.0     68441.85   \n",
       "2           2                     69.47  26.0          NaN   \n",
       "3           3                       NaN   NaN     54806.18   \n",
       "4           4                     68.37  35.0     73889.99   \n",
       "\n",
       "   Daily Internet Usage                          Ad Topic Line  \\\n",
       "0                256.09     Cloned 5thgeneration orchestration   \n",
       "1                193.77     Monitored national standardization   \n",
       "2                   NaN       Organic bottom-line service-desk   \n",
       "3                245.89  Triple-buffered reciprocal time-frame   \n",
       "4                225.58          Robust logistical utilization   \n",
       "\n",
       "             City  Male     Country            Timestamp  Clicked on Ad  \n",
       "0     Wrightburgh   0.0     Tunisia   2016-03-27 0:53:11            0.0  \n",
       "1       West Jodi   1.0       Nauru   2016-04-04 1:39:02            0.0  \n",
       "2        Davidton   0.0  San Marino  2016-03-13 20:35:42            0.0  \n",
       "3  West Terrifurt   1.0       Italy   2016-01-10 2:31:19            0.0  \n",
       "4    South Manuel   0.0     Iceland   2016-06-03 3:36:18            0.0  "
      ]
     },
     "execution_count": 79,
     "metadata": {},
     "output_type": "execute_result"
    }
   ],
   "source": [
    "data.head()"
   ]
  },
  {
   "cell_type": "code",
   "execution_count": 78,
   "id": "confidential-spokesman",
   "metadata": {},
   "outputs": [
    {
     "name": "stdout",
     "output_type": "stream",
     "text": [
      "<class 'pandas.core.frame.DataFrame'>\n",
      "RangeIndex: 1000 entries, 0 to 999\n",
      "Data columns (total 11 columns):\n",
      " #   Column                    Non-Null Count  Dtype  \n",
      "---  ------                    --------------  -----  \n",
      " 0   Unnamed: 0                1000 non-null   int64  \n",
      " 1   Daily Time Spent on Site  902 non-null    float64\n",
      " 2   Age                       909 non-null    float64\n",
      " 3   Area Income               913 non-null    float64\n",
      " 4   Daily Internet Usage      907 non-null    float64\n",
      " 5   Ad Topic Line             896 non-null    object \n",
      " 6   City                      908 non-null    object \n",
      " 7   Male                      928 non-null    float64\n",
      " 8   Country                   910 non-null    object \n",
      " 9   Timestamp                 911 non-null    object \n",
      " 10  Clicked on Ad             895 non-null    float64\n",
      "dtypes: float64(6), int64(1), object(4)\n",
      "memory usage: 86.1+ KB\n"
     ]
    }
   ],
   "source": [
    "data.info()"
   ]
  },
  {
   "cell_type": "code",
   "execution_count": 123,
   "id": "marked-market",
   "metadata": {},
   "outputs": [
    {
     "data": {
      "text/plain": [
       "(1000, 11)"
      ]
     },
     "execution_count": 123,
     "metadata": {},
     "output_type": "execute_result"
    }
   ],
   "source": [
    "data.shape "
   ]
  },
  {
   "cell_type": "code",
   "execution_count": 22,
   "id": "settled-wales",
   "metadata": {},
   "outputs": [
    {
     "data": {
      "text/plain": [
       "Unnamed: 0                    0\n",
       "Daily Time Spent on Site     98\n",
       "Age                          91\n",
       "Area Income                  87\n",
       "Daily Internet Usage         93\n",
       "Ad Topic Line               104\n",
       "City                         92\n",
       "Male                         72\n",
       "Country                      90\n",
       "Timestamp                    89\n",
       "Clicked on Ad               105\n",
       "dtype: int64"
      ]
     },
     "execution_count": 22,
     "metadata": {},
     "output_type": "execute_result"
    }
   ],
   "source": [
    "data.isnull().sum()"
   ]
  },
  {
   "cell_type": "code",
   "execution_count": 94,
   "id": "dried-weather",
   "metadata": {},
   "outputs": [
    {
     "data": {
      "text/plain": [
       "Unnamed: 0                    0\n",
       "Daily Time Spent on Site     98\n",
       "Age                          91\n",
       "Area Income                  87\n",
       "Daily Internet Usage         93\n",
       "Ad Topic Line               104\n",
       "City                          0\n",
       "Male                          0\n",
       "Country                       0\n",
       "Timestamp                     0\n",
       "Clicked on Ad               105\n",
       "dtype: int64"
      ]
     },
     "execution_count": 94,
     "metadata": {},
     "output_type": "execute_result"
    }
   ],
   "source": [
    "mode1=data['City'].mode().values[0]\n",
    "mode2=data['Male'].mode().values[0]\n",
    "mode3=data['Country'].mode().values[0]\n",
    "mode4=data['Timestamp'].mode().values[0]\n",
    "mode5=data[]\n",
    "data['City']=data['City'].replace(np.nan,mode1)\n",
    "data['Male']=data['Male'].replace(np.nan,mode2)\n",
    "data['Country']=data['Country'].replace(np.nan,mode3)\n",
    "data['Timestamp']=data['Timestamp'].replace(np.nan,mode4)\n",
    "data.isnull().sum()"
   ]
  },
  {
   "cell_type": "code",
   "execution_count": 134,
   "id": "competent-olympus",
   "metadata": {},
   "outputs": [],
   "source": [
    "data_cat=data.select_dtypes( include='object')\n",
    "data_num=data.select_dtypes(include='number')\n",
    "for i in data_cat:\n",
    "    data_cat[i].replace(np.nan,data_cat[i].mode().values[0])\n",
    "for i in data_num:\n",
    "    data_num[i].replace(np.nan,data_num[i].mean(),inplace=True)"
   ]
  },
  {
   "cell_type": "code",
   "execution_count": 96,
   "id": "julian-halloween",
   "metadata": {},
   "outputs": [],
   "source": []
  },
  {
   "cell_type": "code",
   "execution_count": 113,
   "id": "ranking-alarm",
   "metadata": {},
   "outputs": [
    {
     "data": {
      "text/plain": [
       "Ad Topic Line    104\n",
       "City               0\n",
       "Male               0\n",
       "Country            0\n",
       "Timestamp          0\n",
       "dtype: int64"
      ]
     },
     "execution_count": 113,
     "metadata": {},
     "output_type": "execute_result"
    }
   ],
   "source": [
    "data_cat.isnull().sum()"
   ]
  },
  {
   "cell_type": "code",
   "execution_count": 105,
   "id": "established-giant",
   "metadata": {},
   "outputs": [
    {
     "data": {
      "text/plain": [
       "Unnamed: 0                  0\n",
       "Daily Time Spent on Site    0\n",
       "Age                         0\n",
       "Area Income                 0\n",
       "Daily Internet Usage        0\n",
       "Clicked on Ad               0\n",
       "dtype: int64"
      ]
     },
     "execution_count": 105,
     "metadata": {},
     "output_type": "execute_result"
    }
   ],
   "source": [
    "data_num.isnull().sum()"
   ]
  },
  {
   "cell_type": "code",
   "execution_count": 107,
   "id": "residential-vienna",
   "metadata": {},
   "outputs": [
    {
     "name": "stdout",
     "output_type": "stream",
     "text": [
      "0\n"
     ]
    },
    {
     "data": {
      "text/html": [
       "<div>\n",
       "<style scoped>\n",
       "    .dataframe tbody tr th:only-of-type {\n",
       "        vertical-align: middle;\n",
       "    }\n",
       "\n",
       "    .dataframe tbody tr th {\n",
       "        vertical-align: top;\n",
       "    }\n",
       "\n",
       "    .dataframe thead th {\n",
       "        text-align: right;\n",
       "    }\n",
       "</style>\n",
       "<table border=\"1\" class=\"dataframe\">\n",
       "  <thead>\n",
       "    <tr style=\"text-align: right;\">\n",
       "      <th></th>\n",
       "      <th>Unnamed: 0</th>\n",
       "      <th>Daily Time Spent on Site</th>\n",
       "      <th>Age</th>\n",
       "      <th>Area Income</th>\n",
       "      <th>Daily Internet Usage</th>\n",
       "      <th>Ad Topic Line</th>\n",
       "      <th>City</th>\n",
       "      <th>Male</th>\n",
       "      <th>Country</th>\n",
       "      <th>Timestamp</th>\n",
       "      <th>Clicked on Ad</th>\n",
       "    </tr>\n",
       "  </thead>\n",
       "  <tbody>\n",
       "  </tbody>\n",
       "</table>\n",
       "</div>"
      ],
      "text/plain": [
       "Empty DataFrame\n",
       "Columns: [Unnamed: 0, Daily Time Spent on Site, Age, Area Income, Daily Internet Usage, Ad Topic Line, City, Male, Country, Timestamp, Clicked on Ad]\n",
       "Index: []"
      ]
     },
     "execution_count": 107,
     "metadata": {},
     "output_type": "execute_result"
    }
   ],
   "source": [
    "duplicate=data.duplicated()\n",
    "print(duplicate.sum())\n",
    "data[duplicate]"
   ]
  },
  {
   "cell_type": "code",
   "execution_count": 34,
   "id": "objective-alberta",
   "metadata": {},
   "outputs": [],
   "source": [
    "data.drop_duplicates(inplace=True)"
   ]
  },
  {
   "cell_type": "code",
   "execution_count": 135,
   "id": "taken-grill",
   "metadata": {},
   "outputs": [],
   "source": [
    "dataset = pd.concat([data_cat, data_num], axis=1, join=\"inner\")"
   ]
  },
  {
   "cell_type": "code",
   "execution_count": 136,
   "id": "offensive-spelling",
   "metadata": {},
   "outputs": [
    {
     "data": {
      "text/plain": [
       "<AxesSubplot:>"
      ]
     },
     "execution_count": 136,
     "metadata": {},
     "output_type": "execute_result"
    },
    {
     "data": {
      "image/png": "[encoded data removed]",
      "text/plain": [
       "<Figure size 432x288 with 1 Axes>"
      ]
     },
     "metadata": {},
     "output_type": "display_data"
    }
   ],
   "source": [
    "sns.heatmap(dataset.isnull(),cbar=False,yticklabels=False,cmap = 'viridis')\n"
   ]
  },
  {
   "cell_type": "code",
   "execution_count": 117,
   "id": "judicial-estonia",
   "metadata": {},
   "outputs": [
    {
     "data": {
      "text/plain": [
       "Text(0.5, 0, 'Counrtry')"
      ]
     },
     "execution_count": 117,
     "metadata": {},
     "output_type": "execute_result"
    },
    {
     "data": {
      "image/png": "[encoded data removed]",
      "text/plain": [
       "<Figure size 432x288 with 1 Axes>"
      ]
     },
     "metadata": {
      "needs_background": "light"
     },
     "output_type": "display_data"
    }
   ],
   "source": [
    "dataset['Country'].tail(30).value_counts().plot(kind='bar',color='wheat',ec='orange')\n",
    "plt.xlabel('Counrtry',color='green',fontsize=16)"
   ]
  },
  {
   "cell_type": "code",
   "execution_count": 120,
   "id": "collaborative-kelly",
   "metadata": {},
   "outputs": [
    {
     "data": {
      "image/png": "[encoded data removed]",
      "text/plain": [
       "<Figure size 432x288 with 1 Axes>"
      ]
     },
     "metadata": {
      "needs_background": "light"
     },
     "output_type": "display_data"
    }
   ],
   "source": [
    "plt.scatter(data['Age'].head(15), data['Daily Internet Usage'].head(15), marker = '+', color = 'darkred')\n",
    "plt.xlabel('Age',color='r',fontsize=16)\n",
    "plt.ylabel('Internet usage',color='r',fontsize=16)\n",
    "plt.xticks(rotation=0)\n",
    "plt.show()"
   ]
  },
  {
   "cell_type": "code",
   "execution_count": 121,
   "id": "sealed-logging",
   "metadata": {},
   "outputs": [
    {
     "data": {
      "text/plain": [
       "Text(0.5, 0, 'Male')"
      ]
     },
     "execution_count": 121,
     "metadata": {},
     "output_type": "execute_result"
    },
    {
     "data": {
      "image/png": "[encoded data removed]",
      "text/plain": [
       "<Figure size 432x288 with 1 Axes>"
      ]
     },
     "metadata": {
      "needs_background": "light"
     },
     "output_type": "display_data"
    }
   ],
   "source": [
    "data['Male'].value_counts().plot(kind=\"hist\",color='cyan',ec='teal')\n",
    "plt.xlabel('Male',fontsize=14)"
   ]
  },
  {
   "cell_type": "code",
   "execution_count": 122,
   "id": "infinite-mandate",
   "metadata": {},
   "outputs": [
    {
     "data": {
      "text/plain": [
       "<AxesSubplot:>"
      ]
     },
     "execution_count": 122,
     "metadata": {},
     "output_type": "execute_result"
    },
    {
     "data": {
      "image/png": "[encoded data removed]",
      "text/plain": [
       "<Figure size 432x288 with 2 Axes>"
      ]
     },
     "metadata": {
      "needs_background": "light"
     },
     "output_type": "display_data"
    }
   ],
   "source": [
    "plt.figure(figsize=(6,4))\n",
    "sns.heatmap(dataset.corr(),cmap='Blues',annot=False) "
   ]
  },
  {
   "cell_type": "code",
   "execution_count": 159,
   "id": "pretty-silly",
   "metadata": {},
   "outputs": [
    {
     "data": {
      "text/html": [
       "<div>\n",
       "<style scoped>\n",
       "    .dataframe tbody tr th:only-of-type {\n",
       "        vertical-align: middle;\n",
       "    }\n",
       "\n",
       "    .dataframe tbody tr th {\n",
       "        vertical-align: top;\n",
       "    }\n",
       "\n",
       "    .dataframe thead th {\n",
       "        text-align: right;\n",
       "    }\n",
       "</style>\n",
       "<table border=\"1\" class=\"dataframe\">\n",
       "  <thead>\n",
       "    <tr style=\"text-align: right;\">\n",
       "      <th></th>\n",
       "      <th>Unnamed: 0</th>\n",
       "      <th>Daily Time Spent on Site</th>\n",
       "      <th>Age</th>\n",
       "      <th>Area Income</th>\n",
       "      <th>Daily Internet Usage</th>\n",
       "      <th>Clicked on Ad</th>\n",
       "    </tr>\n",
       "  </thead>\n",
       "  <tbody>\n",
       "    <tr>\n",
       "      <th>Unnamed: 0</th>\n",
       "      <td>1.000000</td>\n",
       "      <td>-0.024650</td>\n",
       "      <td>NaN</td>\n",
       "      <td>-0.041180</td>\n",
       "      <td>0.003983</td>\n",
       "      <td>0.013652</td>\n",
       "    </tr>\n",
       "    <tr>\n",
       "      <th>Daily Time Spent on Site</th>\n",
       "      <td>-0.024650</td>\n",
       "      <td>1.000000</td>\n",
       "      <td>NaN</td>\n",
       "      <td>0.280268</td>\n",
       "      <td>0.469658</td>\n",
       "      <td>-0.672516</td>\n",
       "    </tr>\n",
       "    <tr>\n",
       "      <th>Age</th>\n",
       "      <td>NaN</td>\n",
       "      <td>NaN</td>\n",
       "      <td>NaN</td>\n",
       "      <td>NaN</td>\n",
       "      <td>NaN</td>\n",
       "      <td>NaN</td>\n",
       "    </tr>\n",
       "    <tr>\n",
       "      <th>Area Income</th>\n",
       "      <td>-0.041180</td>\n",
       "      <td>0.280268</td>\n",
       "      <td>NaN</td>\n",
       "      <td>1.000000</td>\n",
       "      <td>0.304861</td>\n",
       "      <td>-0.430696</td>\n",
       "    </tr>\n",
       "    <tr>\n",
       "      <th>Daily Internet Usage</th>\n",
       "      <td>0.003983</td>\n",
       "      <td>0.469658</td>\n",
       "      <td>NaN</td>\n",
       "      <td>0.304861</td>\n",
       "      <td>1.000000</td>\n",
       "      <td>-0.700712</td>\n",
       "    </tr>\n",
       "    <tr>\n",
       "      <th>Clicked on Ad</th>\n",
       "      <td>0.013652</td>\n",
       "      <td>-0.672516</td>\n",
       "      <td>NaN</td>\n",
       "      <td>-0.430696</td>\n",
       "      <td>-0.700712</td>\n",
       "      <td>1.000000</td>\n",
       "    </tr>\n",
       "  </tbody>\n",
       "</table>\n",
       "</div>"
      ],
      "text/plain": [
       "                          Unnamed: 0  Daily Time Spent on Site  Age  \\\n",
       "Unnamed: 0                  1.000000                 -0.024650  NaN   \n",
       "Daily Time Spent on Site   -0.024650                  1.000000  NaN   \n",
       "Age                              NaN                       NaN  NaN   \n",
       "Area Income                -0.041180                  0.280268  NaN   \n",
       "Daily Internet Usage        0.003983                  0.469658  NaN   \n",
       "Clicked on Ad               0.013652                 -0.672516  NaN   \n",
       "\n",
       "                          Area Income  Daily Internet Usage  Clicked on Ad  \n",
       "Unnamed: 0                  -0.041180              0.003983       0.013652  \n",
       "Daily Time Spent on Site     0.280268              0.469658      -0.672516  \n",
       "Age                               NaN                   NaN            NaN  \n",
       "Area Income                  1.000000              0.304861      -0.430696  \n",
       "Daily Internet Usage         0.304861              1.000000      -0.700712  \n",
       "Clicked on Ad               -0.430696             -0.700712       1.000000  "
      ]
     },
     "execution_count": 159,
     "metadata": {},
     "output_type": "execute_result"
    }
   ],
   "source": [
    "dataset.corr()"
   ]
  },
  {
   "cell_type": "code",
   "execution_count": 137,
   "id": "virgin-establishment",
   "metadata": {},
   "outputs": [
    {
     "data": {
      "image/png": "[encoded data removed]",
      "text/plain": [
       "<Figure size 432x288 with 1 Axes>"
      ]
     },
     "metadata": {},
     "output_type": "display_data"
    },
    {
     "data": {
      "image/png": "[encoded data removed]",
      "text/plain": [
       "<Figure size 432x288 with 1 Axes>"
      ]
     },
     "metadata": {},
     "output_type": "display_data"
    },
    {
     "data": {
      "image/png": "[encoded data removed]",
      "text/plain": [
       "<Figure size 432x288 with 1 Axes>"
      ]
     },
     "metadata": {},
     "output_type": "display_data"
    },
    {
     "data": {
      "image/png": "[encoded data removed]",
      "text/plain": [
       "<Figure size 432x288 with 1 Axes>"
      ]
     },
     "metadata": {},
     "output_type": "display_data"
    },
    {
     "data": {
      "image/png": "[encoded data removed]",
      "text/plain": [
       "<Figure size 432x288 with 1 Axes>"
      ]
     },
     "metadata": {},
     "output_type": "display_data"
    },
    {
     "data": {
      "image/png": "[encoded data removed]",
      "text/plain": [
       "<Figure size 432x288 with 1 Axes>"
      ]
     },
     "metadata": {},
     "output_type": "display_data"
    }
   ],
   "source": [
    "\n",
    "for column in data_num:\n",
    "    plt.figure()\n",
    "    data_num.boxplot([column])"
   ]
  },
  {
   "cell_type": "code",
   "execution_count": 150,
   "id": "determined-middle",
   "metadata": {},
   "outputs": [],
   "source": [
    "def remove_outlier(col):\n",
    "    sorted(col)\n",
    "    Q1,Q3=col.quantile([0.25,0.75])\n",
    "    IQR=Q3-Q1\n",
    "    lower_r=Q1-(1.5*IQR)\n",
    "    upper_r=Q3+(1.5*IQR)\n",
    "    return lower_r,upper_r"
   ]
  },
  {
   "cell_type": "code",
   "execution_count": 149,
   "id": "soviet-titanium",
   "metadata": {},
   "outputs": [],
   "source": [
    "lower,upper=remove_outlier(dataset['Age'])\n"
   ]
  },
  {
   "cell_type": "code",
   "execution_count": 157,
   "id": "disabled-front",
   "metadata": {},
   "outputs": [],
   "source": [
    "for col in data_num:\n",
    "    lower,upper=remove_outlier(dataset[col])\n",
    "    data_num[col]=np.where(data_num[col]>upper,upper,data_num[col])\n",
    "    data_num[col]=np.where(data_num[col]>lower,lower,data_num[col])"
   ]
  },
  {
   "cell_type": "code",
   "execution_count": 158,
   "id": "typical-helicopter",
   "metadata": {},
   "outputs": [
    {
     "data": {
      "image/png": "[encoded data removed]",
      "text/plain": [
       "<Figure size 432x288 with 1 Axes>"
      ]
     },
     "metadata": {},
     "output_type": "display_data"
    },
    {
     "data": {
      "image/png": "[encoded data removed]",
      "text/plain": [
       "<Figure size 432x288 with 1 Axes>"
      ]
     },
     "metadata": {},
     "output_type": "display_data"
    },
    {
     "data": {
      "image/png": "[encoded data removed]",
      "text/plain": [
       "<Figure size 432x288 with 1 Axes>"
      ]
     },
     "metadata": {},
     "output_type": "display_data"
    },
    {
     "data": {
      "image/png": "[encoded data removed]",
      "text/plain": [
       "<Figure size 432x288 with 1 Axes>"
      ]
     },
     "metadata": {},
     "output_type": "display_data"
    },
    {
     "data": {
      "image/png": "[encoded data removed]",
      "text/plain": [
       "<Figure size 432x288 with 1 Axes>"
      ]
     },
     "metadata": {},
     "output_type": "display_data"
    },
    {
     "data": {
      "image/png": "[encoded data removed]",
      "text/plain": [
       "<Figure size 432x288 with 1 Axes>"
      ]
     },
     "metadata": {},
     "output_type": "display_data"
    }
   ],
   "source": [
    "\n",
    "for column in data_num:\n",
    "    plt.figure()\n",
    "    data_num.boxplot([column])"
   ]
  },
  {
   "cell_type": "code",
   "execution_count": null,
   "id": "boolean-vault",
   "metadata": {},
   "outputs": [],
   "source": [
    "for i in data_cat:\n",
    "        dataset[i] = dataset[i].str.strip()\n",
    "        LabelEncoder_ = preprocessing.LabelEncoder()\n",
    "        dataset[i] = LabelEncoder_.fit_transform(dataset[i])"
   ]
  },
  {
   "cell_type": "code",
   "execution_count": 175,
   "id": "simplified-communication",
   "metadata": {},
   "outputs": [
    {
     "data": {
      "text/html": [
       "<div>\n",
       "<style scoped>\n",
       "    .dataframe tbody tr th:only-of-type {\n",
       "        vertical-align: middle;\n",
       "    }\n",
       "\n",
       "    .dataframe tbody tr th {\n",
       "        vertical-align: top;\n",
       "    }\n",
       "\n",
       "    .dataframe thead th {\n",
       "        text-align: right;\n",
       "    }\n",
       "</style>\n",
       "<table border=\"1\" class=\"dataframe\">\n",
       "  <thead>\n",
       "    <tr style=\"text-align: right;\">\n",
       "      <th></th>\n",
       "      <th>Unnamed: 0</th>\n",
       "      <th>Daily Time Spent on Site</th>\n",
       "      <th>Age</th>\n",
       "      <th>Area Income</th>\n",
       "      <th>Daily Internet Usage</th>\n",
       "      <th>Clicked on Ad</th>\n",
       "    </tr>\n",
       "  </thead>\n",
       "  <tbody>\n",
       "    <tr>\n",
       "      <th>0</th>\n",
       "      <td>-499.5</td>\n",
       "      <td>17.555</td>\n",
       "      <td>13.5</td>\n",
       "      <td>25287.87625</td>\n",
       "      <td>33.39375</td>\n",
       "      <td>-1.5</td>\n",
       "    </tr>\n",
       "    <tr>\n",
       "      <th>1</th>\n",
       "      <td>-499.5</td>\n",
       "      <td>17.555</td>\n",
       "      <td>13.5</td>\n",
       "      <td>25287.87625</td>\n",
       "      <td>33.39375</td>\n",
       "      <td>-1.5</td>\n",
       "    </tr>\n",
       "    <tr>\n",
       "      <th>2</th>\n",
       "      <td>-499.5</td>\n",
       "      <td>17.555</td>\n",
       "      <td>13.5</td>\n",
       "      <td>25287.87625</td>\n",
       "      <td>33.39375</td>\n",
       "      <td>-1.5</td>\n",
       "    </tr>\n",
       "    <tr>\n",
       "      <th>3</th>\n",
       "      <td>-499.5</td>\n",
       "      <td>17.555</td>\n",
       "      <td>13.5</td>\n",
       "      <td>25287.87625</td>\n",
       "      <td>33.39375</td>\n",
       "      <td>-1.5</td>\n",
       "    </tr>\n",
       "    <tr>\n",
       "      <th>4</th>\n",
       "      <td>-499.5</td>\n",
       "      <td>17.555</td>\n",
       "      <td>13.5</td>\n",
       "      <td>25287.87625</td>\n",
       "      <td>33.39375</td>\n",
       "      <td>-1.5</td>\n",
       "    </tr>\n",
       "  </tbody>\n",
       "</table>\n",
       "</div>"
      ],
      "text/plain": [
       "   Unnamed: 0  Daily Time Spent on Site   Age  Area Income  \\\n",
       "0      -499.5                    17.555  13.5  25287.87625   \n",
       "1      -499.5                    17.555  13.5  25287.87625   \n",
       "2      -499.5                    17.555  13.5  25287.87625   \n",
       "3      -499.5                    17.555  13.5  25287.87625   \n",
       "4      -499.5                    17.555  13.5  25287.87625   \n",
       "\n",
       "   Daily Internet Usage  Clicked on Ad  \n",
       "0              33.39375           -1.5  \n",
       "1              33.39375           -1.5  \n",
       "2              33.39375           -1.5  \n",
       "3              33.39375           -1.5  \n",
       "4              33.39375           -1.5  "
      ]
     },
     "execution_count": 175,
     "metadata": {},
     "output_type": "execute_result"
    }
   ],
   "source": []
  },
  {
   "cell_type": "markdown",
   "id": "bronze-worse",
   "metadata": {},
   "source": [
    "<h2>Linear regression<h2/>"
   ]
  },
  {
   "cell_type": "code",
   "execution_count": 162,
   "id": "eleven-brass",
   "metadata": {},
   "outputs": [],
   "source": [
    "from sklearn import linear_model\n",
    "\n",
    "# OSL() model can be used from statmodels package\n",
    "import statsmodels.api as sm\n",
    "\n",
    "# we will perform sampling using train_test_split module for training and testin set\n",
    "# and we will use GridSearchCV to find the best parameters for SGDRegressor()\n",
    "from sklearn.model_selection import train_test_split\n",
    "\n",
    "from sklearn import preprocessing\n",
    "\n",
    "# we will evaluate our models using RMSE(mean_squared_error) and Determination coefficient(r2_score)\n",
    "from sklearn.metrics import mean_squared_error, r2_score\n",
    "\n",
    "# in case you will use polinominal features\n",
    "from sklearn.preprocessing import PolynomialFeatures"
   ]
  },
  {
   "cell_type": "code",
   "execution_count": 168,
   "id": "atmospheric-suspension",
   "metadata": {},
   "outputs": [],
   "source": [
    "X = dataset[['Daily Time Spent on Site','Age','Area Income','Clicked on Ad']].copy()\n",
    "Y=dataset[['Daily Internet Usage']].copy()"
   ]
  },
  {
   "cell_type": "code",
   "execution_count": 169,
   "id": "wrapped-twelve",
   "metadata": {},
   "outputs": [
    {
     "data": {
      "text/plain": [
       "((1000, 4), (1000, 1))"
      ]
     },
     "execution_count": 169,
     "metadata": {},
     "output_type": "execute_result"
    }
   ],
   "source": [
    "X.shape, Y.shape"
   ]
  },
  {
   "cell_type": "code",
   "execution_count": 170,
   "id": "exposed-continuity",
   "metadata": {},
   "outputs": [],
   "source": [
    "x_train, x_test, y_train, y_test = train_test_split(X, Y, test_size=0.3, random_state=0 )"
   ]
  },
  {
   "cell_type": "code",
   "execution_count": 171,
   "id": "tropical-wisconsin",
   "metadata": {},
   "outputs": [],
   "source": [
    "x_train_ols =  sm.add_constant(x_train)\n",
    "ols_model = sm.OLS(y_train, x_train, missing=\"drop\").fit()\n",
    "y_predicted_ols=ols_model.predict(x_test)"
   ]
  },
  {
   "cell_type": "markdown",
   "id": "prescription-termination",
   "metadata": {},
   "source": [
    "**Dummy model**"
   ]
  },
  {
   "cell_type": "code",
   "execution_count": 172,
   "id": "sorted-parts",
   "metadata": {},
   "outputs": [],
   "source": [
    "lr_model = linear_model.LinearRegression()"
   ]
  },
  {
   "cell_type": "code",
   "execution_count": 173,
   "id": "italian-stamp",
   "metadata": {},
   "outputs": [
    {
     "data": {
      "text/plain": [
       "LinearRegression()"
      ]
     },
     "execution_count": 173,
     "metadata": {},
     "output_type": "execute_result"
    }
   ],
   "source": [
    "lr_model.fit(x_train, y_train)"
   ]
  },
  {
   "cell_type": "code",
   "execution_count": 174,
   "id": "removed-technology",
   "metadata": {},
   "outputs": [
    {
     "name": "stdout",
     "output_type": "stream",
     "text": [
      "Score: 0.5267906108626539\n"
     ]
    }
   ],
   "source": [
    "print('Score:', lr_model.score(x_test, y_test))\n"
   ]
  },
  {
   "cell_type": "markdown",
   "id": "educational-bottle",
   "metadata": {},
   "source": [
    "**Improving model**"
   ]
  },
  {
   "cell_type": "code",
   "execution_count": 176,
   "id": "aware-miami",
   "metadata": {},
   "outputs": [],
   "source": [
    "from sklearn.feature_selection import SelectKBest, f_regression\n",
    "from sklearn.model_selection import KFold, StratifiedKFold, cross_val_score,cross_val_predict\n",
    "from sklearn import linear_model, tree, ensemble\n",
    "from sklearn import metrics\n",
    "from sklearn.linear_model import LogisticRegression\n",
    "from sklearn import model_selection\n"
   ]
  },
  {
   "cell_type": "code",
   "execution_count": 177,
   "id": "dried-origin",
   "metadata": {},
   "outputs": [],
   "source": [
    "skbest = SelectKBest(score_func=f_regression, k = 5)"
   ]
  },
  {
   "cell_type": "code",
   "execution_count": 180,
   "id": "amended-sentence",
   "metadata": {},
   "outputs": [],
   "source": [
    "y = dataset[['Daily Internet Usage']].copy()\n",
    "X = dataset[['Daily Time Spent on Site','Age','Area Income','Clicked on Ad']].copy()"
   ]
  },
  {
   "cell_type": "code",
   "execution_count": 181,
   "id": "acknowledged-madrid",
   "metadata": {},
   "outputs": [
    {
     "name": "stdout",
     "output_type": "stream",
     "text": [
      "Cross-validated scores: [0.47633004 0.51912356 0.47877157 0.42730747 0.50059544]\n"
     ]
    }
   ],
   "source": [
    "scores = cross_val_score(lr_model, X, y, cv=5)\n",
    "print('Cross-validated scores:', scores)"
   ]
  },
  {
   "cell_type": "code",
   "execution_count": 182,
   "id": "accessible-verse",
   "metadata": {},
   "outputs": [
    {
     "name": "stdout",
     "output_type": "stream",
     "text": [
      "Cross-Predicted Accuracy: 0.4853288963415313\n"
     ]
    }
   ],
   "source": [
    "predictions = cross_val_predict(lr_model, X, y, cv=5)\n",
    "accuracy = metrics.r2_score(y, predictions)\n",
    "print('Cross-Predicted Accuracy:', accuracy)"
   ]
  },
  {
   "cell_type": "code",
   "execution_count": null,
   "id": "improved-robin",
   "metadata": {},
   "outputs": [],
   "source": []
  }
 ],
 "metadata": {
  "kernelspec": {
   "display_name": "Python 3",
   "language": "python",
   "name": "python3"
  },
  "language_info": {
   "codemirror_mode": {
    "name": "ipython",
    "version": 3
   },
   "file_extension": ".py",
   "mimetype": "text/x-python",
   "name": "python",
   "nbconvert_exporter": "python",
   "pygments_lexer": "ipython3",
   "version": "3.9.0"
  }
 },
 "nbformat": 4,
 "nbformat_minor": 5
}
